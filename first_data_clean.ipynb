{
 "cells": [
  {
   "cell_type": "code",
   "execution_count": 3,
   "id": "ef3fc41d-0ab8-4883-9041-39237822eefb",
   "metadata": {},
   "outputs": [],
   "source": [
    "import pandas as pd\n",
    "import numpy as np\n",
    "import matplotlib.pyplot as plt\n",
    "import seaborn as sns"
   ]
  },
  {
   "cell_type": "code",
   "execution_count": 2,
   "id": "d3dc9c27-fb54-4105-907f-c3d517ab3eb7",
   "metadata": {},
   "outputs": [],
   "source": [
    "pd.set_option(\"display.max_columns\",None)"
   ]
  },
  {
   "cell_type": "code",
   "execution_count": 3,
   "id": "fa4afad3-7f43-466c-9b24-45db22c47fd7",
   "metadata": {},
   "outputs": [],
   "source": [
    "df = pd.read_csv(\"NF-UNSW-NB15-v3.csv\")"
   ]
  },
  {
   "cell_type": "code",
   "execution_count": 4,
   "id": "587c719f-ab6c-41a7-822c-2a071e472df6",
   "metadata": {},
   "outputs": [
    {
     "data": {
      "text/plain": [
       "(2365424, 55)"
      ]
     },
     "execution_count": 4,
     "metadata": {},
     "output_type": "execute_result"
    }
   ],
   "source": [
    "df.shape"
   ]
  },
  {
   "cell_type": "code",
   "execution_count": 5,
   "id": "4f4fb912-62bb-4209-8950-426df9606cf9",
   "metadata": {},
   "outputs": [
    {
     "name": "stdout",
     "output_type": "stream",
     "text": [
      "<class 'pandas.core.frame.DataFrame'>\n",
      "RangeIndex: 2365424 entries, 0 to 2365423\n",
      "Data columns (total 55 columns):\n",
      " #   Column                       Dtype  \n",
      "---  ------                       -----  \n",
      " 0   FLOW_START_MILLISECONDS      int64  \n",
      " 1   FLOW_END_MILLISECONDS        int64  \n",
      " 2   IPV4_SRC_ADDR                object \n",
      " 3   L4_SRC_PORT                  int64  \n",
      " 4   IPV4_DST_ADDR                object \n",
      " 5   L4_DST_PORT                  int64  \n",
      " 6   PROTOCOL                     int64  \n",
      " 7   L7_PROTO                     float64\n",
      " 8   IN_BYTES                     int64  \n",
      " 9   IN_PKTS                      int64  \n",
      " 10  OUT_BYTES                    int64  \n",
      " 11  OUT_PKTS                     int64  \n",
      " 12  TCP_FLAGS                    int64  \n",
      " 13  CLIENT_TCP_FLAGS             int64  \n",
      " 14  SERVER_TCP_FLAGS             int64  \n",
      " 15  FLOW_DURATION_MILLISECONDS   int64  \n",
      " 16  DURATION_IN                  int64  \n",
      " 17  DURATION_OUT                 int64  \n",
      " 18  MIN_TTL                      int64  \n",
      " 19  MAX_TTL                      int64  \n",
      " 20  LONGEST_FLOW_PKT             int64  \n",
      " 21  SHORTEST_FLOW_PKT            int64  \n",
      " 22  MIN_IP_PKT_LEN               int64  \n",
      " 23  MAX_IP_PKT_LEN               int64  \n",
      " 24  SRC_TO_DST_SECOND_BYTES      float64\n",
      " 25  DST_TO_SRC_SECOND_BYTES      float64\n",
      " 26  RETRANSMITTED_IN_BYTES       int64  \n",
      " 27  RETRANSMITTED_IN_PKTS        int64  \n",
      " 28  RETRANSMITTED_OUT_BYTES      int64  \n",
      " 29  RETRANSMITTED_OUT_PKTS       int64  \n",
      " 30  SRC_TO_DST_AVG_THROUGHPUT    int64  \n",
      " 31  DST_TO_SRC_AVG_THROUGHPUT    int64  \n",
      " 32  NUM_PKTS_UP_TO_128_BYTES     int64  \n",
      " 33  NUM_PKTS_128_TO_256_BYTES    int64  \n",
      " 34  NUM_PKTS_256_TO_512_BYTES    int64  \n",
      " 35  NUM_PKTS_512_TO_1024_BYTES   int64  \n",
      " 36  NUM_PKTS_1024_TO_1514_BYTES  int64  \n",
      " 37  TCP_WIN_MAX_IN               int64  \n",
      " 38  TCP_WIN_MAX_OUT              int64  \n",
      " 39  ICMP_TYPE                    int64  \n",
      " 40  ICMP_IPV4_TYPE               int64  \n",
      " 41  DNS_QUERY_ID                 int64  \n",
      " 42  DNS_QUERY_TYPE               int64  \n",
      " 43  DNS_TTL_ANSWER               int64  \n",
      " 44  FTP_COMMAND_RET_CODE         int64  \n",
      " 45  SRC_TO_DST_IAT_MIN           int64  \n",
      " 46  SRC_TO_DST_IAT_MAX           int64  \n",
      " 47  SRC_TO_DST_IAT_AVG           int64  \n",
      " 48  SRC_TO_DST_IAT_STDDEV        int64  \n",
      " 49  DST_TO_SRC_IAT_MIN           int64  \n",
      " 50  DST_TO_SRC_IAT_MAX           int64  \n",
      " 51  DST_TO_SRC_IAT_AVG           int64  \n",
      " 52  DST_TO_SRC_IAT_STDDEV        int64  \n",
      " 53  Label                        int64  \n",
      " 54  Attack                       object \n",
      "dtypes: float64(3), int64(49), object(3)\n",
      "memory usage: 992.6+ MB\n"
     ]
    }
   ],
   "source": [
    "df.info()"
   ]
  },
  {
   "cell_type": "code",
   "execution_count": 6,
   "id": "78392171-2a4e-4497-a07f-9b603b1b6ea3",
   "metadata": {},
   "outputs": [
    {
     "data": {
      "text/plain": [
       "0    59.166.0.2\n",
       "1    59.166.0.4\n",
       "2    59.166.0.0\n",
       "3    59.166.0.8\n",
       "4    59.166.0.1\n",
       "5    59.166.0.1\n",
       "6    59.166.0.1\n",
       "Name: IPV4_SRC_ADDR, dtype: object"
      ]
     },
     "execution_count": 6,
     "metadata": {},
     "output_type": "execute_result"
    }
   ],
   "source": [
    "df['IPV4_SRC_ADDR'].head(7)"
   ]
  },
  {
   "cell_type": "code",
   "execution_count": 7,
   "id": "30c7d0b8-93dc-495a-9418-1949d150e769",
   "metadata": {},
   "outputs": [
    {
     "data": {
      "text/plain": [
       "1976473    Benign\n",
       "2330006    Benign\n",
       "1030794    Benign\n",
       "1826349    Benign\n",
       "522293     Benign\n",
       "1783293    Benign\n",
       "111368     Benign\n",
       "Name: Attack, dtype: object"
      ]
     },
     "execution_count": 7,
     "metadata": {},
     "output_type": "execute_result"
    }
   ],
   "source": [
    "df['Attack'].sample(7)"
   ]
  },
  {
   "cell_type": "code",
   "execution_count": 8,
   "id": "d1250bd6-5bbb-4342-bb51-a1adb0c60aa6",
   "metadata": {},
   "outputs": [
    {
     "data": {
      "text/plain": [
       "Attack\n",
       "Benign            2237731\n",
       "Exploits            42748\n",
       "Fuzzers             33816\n",
       "Generic             19651\n",
       "Reconnaissance      17074\n",
       "DoS                  5980\n",
       "Backdoor             4659\n",
       "Shellcode            2381\n",
       "Analysis             1226\n",
       "Worms                 158\n",
       "Name: count, dtype: int64"
      ]
     },
     "execution_count": 8,
     "metadata": {},
     "output_type": "execute_result"
    }
   ],
   "source": [
    "df['Attack'].value_counts()"
   ]
  },
  {
   "cell_type": "code",
   "execution_count": 9,
   "id": "78d204d6-a024-46e0-9f31-d16f9e50130e",
   "metadata": {},
   "outputs": [
    {
     "data": {
      "text/plain": [
       "FLOW_START_MILLISECONDS            0\n",
       "FLOW_END_MILLISECONDS              0\n",
       "IPV4_SRC_ADDR                      0\n",
       "L4_SRC_PORT                        0\n",
       "IPV4_DST_ADDR                      0\n",
       "L4_DST_PORT                        0\n",
       "PROTOCOL                           0\n",
       "L7_PROTO                           0\n",
       "IN_BYTES                           0\n",
       "IN_PKTS                            0\n",
       "OUT_BYTES                          0\n",
       "OUT_PKTS                           0\n",
       "TCP_FLAGS                          0\n",
       "CLIENT_TCP_FLAGS                   0\n",
       "SERVER_TCP_FLAGS                   0\n",
       "FLOW_DURATION_MILLISECONDS         0\n",
       "DURATION_IN                        0\n",
       "DURATION_OUT                       0\n",
       "MIN_TTL                            0\n",
       "MAX_TTL                            0\n",
       "LONGEST_FLOW_PKT                   0\n",
       "SHORTEST_FLOW_PKT                  0\n",
       "MIN_IP_PKT_LEN                     0\n",
       "MAX_IP_PKT_LEN                     0\n",
       "SRC_TO_DST_SECOND_BYTES        63425\n",
       "DST_TO_SRC_SECOND_BYTES            0\n",
       "RETRANSMITTED_IN_BYTES             0\n",
       "RETRANSMITTED_IN_PKTS              0\n",
       "RETRANSMITTED_OUT_BYTES            0\n",
       "RETRANSMITTED_OUT_PKTS             0\n",
       "SRC_TO_DST_AVG_THROUGHPUT          0\n",
       "DST_TO_SRC_AVG_THROUGHPUT          0\n",
       "NUM_PKTS_UP_TO_128_BYTES           0\n",
       "NUM_PKTS_128_TO_256_BYTES          0\n",
       "NUM_PKTS_256_TO_512_BYTES          0\n",
       "NUM_PKTS_512_TO_1024_BYTES         0\n",
       "NUM_PKTS_1024_TO_1514_BYTES        0\n",
       "TCP_WIN_MAX_IN                     0\n",
       "TCP_WIN_MAX_OUT                    0\n",
       "ICMP_TYPE                          0\n",
       "ICMP_IPV4_TYPE                     0\n",
       "DNS_QUERY_ID                       0\n",
       "DNS_QUERY_TYPE                     0\n",
       "DNS_TTL_ANSWER                     0\n",
       "FTP_COMMAND_RET_CODE               0\n",
       "SRC_TO_DST_IAT_MIN                 0\n",
       "SRC_TO_DST_IAT_MAX                 0\n",
       "SRC_TO_DST_IAT_AVG                 0\n",
       "SRC_TO_DST_IAT_STDDEV              0\n",
       "DST_TO_SRC_IAT_MIN                 0\n",
       "DST_TO_SRC_IAT_MAX                 0\n",
       "DST_TO_SRC_IAT_AVG                 0\n",
       "DST_TO_SRC_IAT_STDDEV              0\n",
       "Label                              0\n",
       "Attack                             0\n",
       "dtype: int64"
      ]
     },
     "execution_count": 9,
     "metadata": {},
     "output_type": "execute_result"
    }
   ],
   "source": [
    "df.isnull().sum()"
   ]
  },
  {
   "cell_type": "code",
   "execution_count": 10,
   "id": "17f1c846-51cf-4813-82f3-9876b4617871",
   "metadata": {},
   "outputs": [],
   "source": [
    "df= df.replace([np.inf, -np.inf], np.nan)"
   ]
  },
  {
   "cell_type": "code",
   "execution_count": 12,
   "id": "bcae88cd-0c9c-4217-ab98-6df8dac3ca9f",
   "metadata": {},
   "outputs": [
    {
     "data": {
      "text/plain": [
       "FLOW_START_MILLISECONDS             0\n",
       "FLOW_END_MILLISECONDS               0\n",
       "IPV4_SRC_ADDR                       0\n",
       "L4_SRC_PORT                         0\n",
       "IPV4_DST_ADDR                       0\n",
       "L4_DST_PORT                         0\n",
       "PROTOCOL                            0\n",
       "L7_PROTO                            0\n",
       "IN_BYTES                            0\n",
       "IN_PKTS                             0\n",
       "OUT_BYTES                           0\n",
       "OUT_PKTS                            0\n",
       "TCP_FLAGS                           0\n",
       "CLIENT_TCP_FLAGS                    0\n",
       "SERVER_TCP_FLAGS                    0\n",
       "FLOW_DURATION_MILLISECONDS          0\n",
       "DURATION_IN                         0\n",
       "DURATION_OUT                        0\n",
       "MIN_TTL                             0\n",
       "MAX_TTL                             0\n",
       "LONGEST_FLOW_PKT                    0\n",
       "SHORTEST_FLOW_PKT                   0\n",
       "MIN_IP_PKT_LEN                      0\n",
       "MAX_IP_PKT_LEN                      0\n",
       "SRC_TO_DST_SECOND_BYTES        122493\n",
       "DST_TO_SRC_SECOND_BYTES        122493\n",
       "RETRANSMITTED_IN_BYTES              0\n",
       "RETRANSMITTED_IN_PKTS               0\n",
       "RETRANSMITTED_OUT_BYTES             0\n",
       "RETRANSMITTED_OUT_PKTS              0\n",
       "SRC_TO_DST_AVG_THROUGHPUT           0\n",
       "DST_TO_SRC_AVG_THROUGHPUT           0\n",
       "NUM_PKTS_UP_TO_128_BYTES            0\n",
       "NUM_PKTS_128_TO_256_BYTES           0\n",
       "NUM_PKTS_256_TO_512_BYTES           0\n",
       "NUM_PKTS_512_TO_1024_BYTES          0\n",
       "NUM_PKTS_1024_TO_1514_BYTES         0\n",
       "TCP_WIN_MAX_IN                      0\n",
       "TCP_WIN_MAX_OUT                     0\n",
       "ICMP_TYPE                           0\n",
       "ICMP_IPV4_TYPE                      0\n",
       "DNS_QUERY_ID                        0\n",
       "DNS_QUERY_TYPE                      0\n",
       "DNS_TTL_ANSWER                      0\n",
       "FTP_COMMAND_RET_CODE                0\n",
       "SRC_TO_DST_IAT_MIN                  0\n",
       "SRC_TO_DST_IAT_MAX                  0\n",
       "SRC_TO_DST_IAT_AVG                  0\n",
       "SRC_TO_DST_IAT_STDDEV               0\n",
       "DST_TO_SRC_IAT_MIN                  0\n",
       "DST_TO_SRC_IAT_MAX                  0\n",
       "DST_TO_SRC_IAT_AVG                  0\n",
       "DST_TO_SRC_IAT_STDDEV               0\n",
       "Label                               0\n",
       "Attack                              0\n",
       "dtype: int64"
      ]
     },
     "execution_count": 12,
     "metadata": {},
     "output_type": "execute_result"
    }
   ],
   "source": [
    "df.isnull().sum()"
   ]
  },
  {
   "cell_type": "code",
   "execution_count": 13,
   "id": "866ef823-82db-433d-b60d-244a91e58a11",
   "metadata": {},
   "outputs": [
    {
     "name": "stdout",
     "output_type": "stream",
     "text": [
      "FLOW_START_MILLISECONDS        0.000000e+00\n",
      "FLOW_END_MILLISECONDS          0.000000e+00\n",
      "IPV4_SRC_ADDR                  0.000000e+00\n",
      "L4_SRC_PORT                    0.000000e+00\n",
      "IPV4_DST_ADDR                  0.000000e+00\n",
      "L4_DST_PORT                    0.000000e+00\n",
      "PROTOCOL                       0.000000e+00\n",
      "L7_PROTO                       0.000000e+00\n",
      "IN_BYTES                       0.000000e+00\n",
      "IN_PKTS                        0.000000e+00\n",
      "OUT_BYTES                      0.000000e+00\n",
      "OUT_PKTS                       0.000000e+00\n",
      "TCP_FLAGS                      0.000000e+00\n",
      "CLIENT_TCP_FLAGS               0.000000e+00\n",
      "SERVER_TCP_FLAGS               0.000000e+00\n",
      "FLOW_DURATION_MILLISECONDS     0.000000e+00\n",
      "DURATION_IN                    0.000000e+00\n",
      "DURATION_OUT                   0.000000e+00\n",
      "MIN_TTL                        0.000000e+00\n",
      "MAX_TTL                        0.000000e+00\n",
      "LONGEST_FLOW_PKT               0.000000e+00\n",
      "SHORTEST_FLOW_PKT              0.000000e+00\n",
      "MIN_IP_PKT_LEN                 0.000000e+00\n",
      "MAX_IP_PKT_LEN                 0.000000e+00\n",
      "SRC_TO_DST_SECOND_BYTES        2.897479e+09\n",
      "DST_TO_SRC_SECOND_BYTES        2.897479e+09\n",
      "RETRANSMITTED_IN_BYTES         0.000000e+00\n",
      "RETRANSMITTED_IN_PKTS          0.000000e+00\n",
      "RETRANSMITTED_OUT_BYTES        0.000000e+00\n",
      "RETRANSMITTED_OUT_PKTS         0.000000e+00\n",
      "SRC_TO_DST_AVG_THROUGHPUT      0.000000e+00\n",
      "DST_TO_SRC_AVG_THROUGHPUT      0.000000e+00\n",
      "NUM_PKTS_UP_TO_128_BYTES       0.000000e+00\n",
      "NUM_PKTS_128_TO_256_BYTES      0.000000e+00\n",
      "NUM_PKTS_256_TO_512_BYTES      0.000000e+00\n",
      "NUM_PKTS_512_TO_1024_BYTES     0.000000e+00\n",
      "NUM_PKTS_1024_TO_1514_BYTES    0.000000e+00\n",
      "TCP_WIN_MAX_IN                 0.000000e+00\n",
      "TCP_WIN_MAX_OUT                0.000000e+00\n",
      "ICMP_TYPE                      0.000000e+00\n",
      "ICMP_IPV4_TYPE                 0.000000e+00\n",
      "DNS_QUERY_ID                   0.000000e+00\n",
      "DNS_QUERY_TYPE                 0.000000e+00\n",
      "DNS_TTL_ANSWER                 0.000000e+00\n",
      "FTP_COMMAND_RET_CODE           0.000000e+00\n",
      "SRC_TO_DST_IAT_MIN             0.000000e+00\n",
      "SRC_TO_DST_IAT_MAX             0.000000e+00\n",
      "SRC_TO_DST_IAT_AVG             0.000000e+00\n",
      "SRC_TO_DST_IAT_STDDEV          0.000000e+00\n",
      "DST_TO_SRC_IAT_MIN             0.000000e+00\n",
      "DST_TO_SRC_IAT_MAX             0.000000e+00\n",
      "DST_TO_SRC_IAT_AVG             0.000000e+00\n",
      "DST_TO_SRC_IAT_STDDEV          0.000000e+00\n",
      "Label                          0.000000e+00\n",
      "Attack                         0.000000e+00\n",
      "dtype: float64\n"
     ]
    }
   ],
   "source": [
    "a=df.isnull().sum()*df.shape[0]/100\n",
    "print(a)"
   ]
  },
  {
   "cell_type": "code",
   "execution_count": 14,
   "id": "038b656f-af9e-40dc-a635-590cfd62811a",
   "metadata": {},
   "outputs": [
    {
     "name": "stdout",
     "output_type": "stream",
     "text": [
      "FLOW_START_MILLISECONDS        0.00%\n",
      "FLOW_END_MILLISECONDS          0.00%\n",
      "IPV4_SRC_ADDR                  0.00%\n",
      "L4_SRC_PORT                    0.00%\n",
      "IPV4_DST_ADDR                  0.00%\n",
      "L4_DST_PORT                    0.00%\n",
      "PROTOCOL                       0.00%\n",
      "L7_PROTO                       0.00%\n",
      "IN_BYTES                       0.00%\n",
      "IN_PKTS                        0.00%\n",
      "OUT_BYTES                      0.00%\n",
      "OUT_PKTS                       0.00%\n",
      "TCP_FLAGS                      0.00%\n",
      "CLIENT_TCP_FLAGS               0.00%\n",
      "SERVER_TCP_FLAGS               0.00%\n",
      "FLOW_DURATION_MILLISECONDS     0.00%\n",
      "DURATION_IN                    0.00%\n",
      "DURATION_OUT                   0.00%\n",
      "MIN_TTL                        0.00%\n",
      "MAX_TTL                        0.00%\n",
      "LONGEST_FLOW_PKT               0.00%\n",
      "SHORTEST_FLOW_PKT              0.00%\n",
      "MIN_IP_PKT_LEN                 0.00%\n",
      "MAX_IP_PKT_LEN                 0.00%\n",
      "SRC_TO_DST_SECOND_BYTES        5.18%\n",
      "DST_TO_SRC_SECOND_BYTES        5.18%\n",
      "RETRANSMITTED_IN_BYTES         0.00%\n",
      "RETRANSMITTED_IN_PKTS          0.00%\n",
      "RETRANSMITTED_OUT_BYTES        0.00%\n",
      "RETRANSMITTED_OUT_PKTS         0.00%\n",
      "SRC_TO_DST_AVG_THROUGHPUT      0.00%\n",
      "DST_TO_SRC_AVG_THROUGHPUT      0.00%\n",
      "NUM_PKTS_UP_TO_128_BYTES       0.00%\n",
      "NUM_PKTS_128_TO_256_BYTES      0.00%\n",
      "NUM_PKTS_256_TO_512_BYTES      0.00%\n",
      "NUM_PKTS_512_TO_1024_BYTES     0.00%\n",
      "NUM_PKTS_1024_TO_1514_BYTES    0.00%\n",
      "TCP_WIN_MAX_IN                 0.00%\n",
      "TCP_WIN_MAX_OUT                0.00%\n",
      "ICMP_TYPE                      0.00%\n",
      "ICMP_IPV4_TYPE                 0.00%\n",
      "DNS_QUERY_ID                   0.00%\n",
      "DNS_QUERY_TYPE                 0.00%\n",
      "DNS_TTL_ANSWER                 0.00%\n",
      "FTP_COMMAND_RET_CODE           0.00%\n",
      "SRC_TO_DST_IAT_MIN             0.00%\n",
      "SRC_TO_DST_IAT_MAX             0.00%\n",
      "SRC_TO_DST_IAT_AVG             0.00%\n",
      "SRC_TO_DST_IAT_STDDEV          0.00%\n",
      "DST_TO_SRC_IAT_MIN             0.00%\n",
      "DST_TO_SRC_IAT_MAX             0.00%\n",
      "DST_TO_SRC_IAT_AVG             0.00%\n",
      "DST_TO_SRC_IAT_STDDEV          0.00%\n",
      "Label                          0.00%\n",
      "Attack                         0.00%\n",
      "dtype: object\n"
     ]
    }
   ],
   "source": [
    "a = df.isnull().mean() * 100\n",
    "print(a.apply(lambda x: f\"{x:.2f}%\"))\n"
   ]
  },
  {
   "cell_type": "code",
   "execution_count": 15,
   "id": "cd5f99df-9cb5-420f-ba56-d325a240b876",
   "metadata": {},
   "outputs": [],
   "source": [
    "df.dropna(inplace=True)"
   ]
  },
  {
   "cell_type": "code",
   "execution_count": 16,
   "id": "0a831f7f-c758-4185-ba2e-c4dacc3392b4",
   "metadata": {},
   "outputs": [
    {
     "data": {
      "text/plain": [
       "FLOW_START_MILLISECONDS        0\n",
       "FLOW_END_MILLISECONDS          0\n",
       "IPV4_SRC_ADDR                  0\n",
       "L4_SRC_PORT                    0\n",
       "IPV4_DST_ADDR                  0\n",
       "L4_DST_PORT                    0\n",
       "PROTOCOL                       0\n",
       "L7_PROTO                       0\n",
       "IN_BYTES                       0\n",
       "IN_PKTS                        0\n",
       "OUT_BYTES                      0\n",
       "OUT_PKTS                       0\n",
       "TCP_FLAGS                      0\n",
       "CLIENT_TCP_FLAGS               0\n",
       "SERVER_TCP_FLAGS               0\n",
       "FLOW_DURATION_MILLISECONDS     0\n",
       "DURATION_IN                    0\n",
       "DURATION_OUT                   0\n",
       "MIN_TTL                        0\n",
       "MAX_TTL                        0\n",
       "LONGEST_FLOW_PKT               0\n",
       "SHORTEST_FLOW_PKT              0\n",
       "MIN_IP_PKT_LEN                 0\n",
       "MAX_IP_PKT_LEN                 0\n",
       "SRC_TO_DST_SECOND_BYTES        0\n",
       "DST_TO_SRC_SECOND_BYTES        0\n",
       "RETRANSMITTED_IN_BYTES         0\n",
       "RETRANSMITTED_IN_PKTS          0\n",
       "RETRANSMITTED_OUT_BYTES        0\n",
       "RETRANSMITTED_OUT_PKTS         0\n",
       "SRC_TO_DST_AVG_THROUGHPUT      0\n",
       "DST_TO_SRC_AVG_THROUGHPUT      0\n",
       "NUM_PKTS_UP_TO_128_BYTES       0\n",
       "NUM_PKTS_128_TO_256_BYTES      0\n",
       "NUM_PKTS_256_TO_512_BYTES      0\n",
       "NUM_PKTS_512_TO_1024_BYTES     0\n",
       "NUM_PKTS_1024_TO_1514_BYTES    0\n",
       "TCP_WIN_MAX_IN                 0\n",
       "TCP_WIN_MAX_OUT                0\n",
       "ICMP_TYPE                      0\n",
       "ICMP_IPV4_TYPE                 0\n",
       "DNS_QUERY_ID                   0\n",
       "DNS_QUERY_TYPE                 0\n",
       "DNS_TTL_ANSWER                 0\n",
       "FTP_COMMAND_RET_CODE           0\n",
       "SRC_TO_DST_IAT_MIN             0\n",
       "SRC_TO_DST_IAT_MAX             0\n",
       "SRC_TO_DST_IAT_AVG             0\n",
       "SRC_TO_DST_IAT_STDDEV          0\n",
       "DST_TO_SRC_IAT_MIN             0\n",
       "DST_TO_SRC_IAT_MAX             0\n",
       "DST_TO_SRC_IAT_AVG             0\n",
       "DST_TO_SRC_IAT_STDDEV          0\n",
       "Label                          0\n",
       "Attack                         0\n",
       "dtype: int64"
      ]
     },
     "execution_count": 16,
     "metadata": {},
     "output_type": "execute_result"
    }
   ],
   "source": [
    "df.isnull().sum()"
   ]
  },
  {
   "cell_type": "code",
   "execution_count": 17,
   "id": "1c2f489e-9685-45ab-9cf8-101e39d88c3e",
   "metadata": {},
   "outputs": [
    {
     "data": {
      "text/plain": [
       "(2242931, 55)"
      ]
     },
     "execution_count": 17,
     "metadata": {},
     "output_type": "execute_result"
    }
   ],
   "source": [
    "df.shape"
   ]
  },
  {
   "cell_type": "code",
   "execution_count": 18,
   "id": "d811ed14-5afb-476a-b7dc-9108576e0d78",
   "metadata": {},
   "outputs": [
    {
     "data": {
      "text/html": [
       "<div>\n",
       "<style scoped>\n",
       "    .dataframe tbody tr th:only-of-type {\n",
       "        vertical-align: middle;\n",
       "    }\n",
       "\n",
       "    .dataframe tbody tr th {\n",
       "        vertical-align: top;\n",
       "    }\n",
       "\n",
       "    .dataframe thead th {\n",
       "        text-align: right;\n",
       "    }\n",
       "</style>\n",
       "<table border=\"1\" class=\"dataframe\">\n",
       "  <thead>\n",
       "    <tr style=\"text-align: right;\">\n",
       "      <th></th>\n",
       "      <th>FLOW_START_MILLISECONDS</th>\n",
       "      <th>FLOW_END_MILLISECONDS</th>\n",
       "      <th>IPV4_SRC_ADDR</th>\n",
       "      <th>L4_SRC_PORT</th>\n",
       "      <th>IPV4_DST_ADDR</th>\n",
       "      <th>L4_DST_PORT</th>\n",
       "      <th>PROTOCOL</th>\n",
       "      <th>L7_PROTO</th>\n",
       "      <th>IN_BYTES</th>\n",
       "      <th>IN_PKTS</th>\n",
       "      <th>OUT_BYTES</th>\n",
       "      <th>OUT_PKTS</th>\n",
       "      <th>TCP_FLAGS</th>\n",
       "      <th>CLIENT_TCP_FLAGS</th>\n",
       "      <th>SERVER_TCP_FLAGS</th>\n",
       "      <th>FLOW_DURATION_MILLISECONDS</th>\n",
       "      <th>DURATION_IN</th>\n",
       "      <th>DURATION_OUT</th>\n",
       "      <th>MIN_TTL</th>\n",
       "      <th>MAX_TTL</th>\n",
       "      <th>LONGEST_FLOW_PKT</th>\n",
       "      <th>SHORTEST_FLOW_PKT</th>\n",
       "      <th>MIN_IP_PKT_LEN</th>\n",
       "      <th>MAX_IP_PKT_LEN</th>\n",
       "      <th>SRC_TO_DST_SECOND_BYTES</th>\n",
       "      <th>DST_TO_SRC_SECOND_BYTES</th>\n",
       "      <th>RETRANSMITTED_IN_BYTES</th>\n",
       "      <th>RETRANSMITTED_IN_PKTS</th>\n",
       "      <th>RETRANSMITTED_OUT_BYTES</th>\n",
       "      <th>RETRANSMITTED_OUT_PKTS</th>\n",
       "      <th>SRC_TO_DST_AVG_THROUGHPUT</th>\n",
       "      <th>DST_TO_SRC_AVG_THROUGHPUT</th>\n",
       "      <th>NUM_PKTS_UP_TO_128_BYTES</th>\n",
       "      <th>NUM_PKTS_128_TO_256_BYTES</th>\n",
       "      <th>NUM_PKTS_256_TO_512_BYTES</th>\n",
       "      <th>NUM_PKTS_512_TO_1024_BYTES</th>\n",
       "      <th>NUM_PKTS_1024_TO_1514_BYTES</th>\n",
       "      <th>TCP_WIN_MAX_IN</th>\n",
       "      <th>TCP_WIN_MAX_OUT</th>\n",
       "      <th>ICMP_TYPE</th>\n",
       "      <th>ICMP_IPV4_TYPE</th>\n",
       "      <th>DNS_QUERY_ID</th>\n",
       "      <th>DNS_QUERY_TYPE</th>\n",
       "      <th>DNS_TTL_ANSWER</th>\n",
       "      <th>FTP_COMMAND_RET_CODE</th>\n",
       "      <th>SRC_TO_DST_IAT_MIN</th>\n",
       "      <th>SRC_TO_DST_IAT_MAX</th>\n",
       "      <th>SRC_TO_DST_IAT_AVG</th>\n",
       "      <th>SRC_TO_DST_IAT_STDDEV</th>\n",
       "      <th>DST_TO_SRC_IAT_MIN</th>\n",
       "      <th>DST_TO_SRC_IAT_MAX</th>\n",
       "      <th>DST_TO_SRC_IAT_AVG</th>\n",
       "      <th>DST_TO_SRC_IAT_STDDEV</th>\n",
       "      <th>Label</th>\n",
       "      <th>Attack</th>\n",
       "    </tr>\n",
       "  </thead>\n",
       "  <tbody>\n",
       "    <tr>\n",
       "      <th>197322</th>\n",
       "      <td>1424231888794</td>\n",
       "      <td>1424231888799</td>\n",
       "      <td>59.166.0.3</td>\n",
       "      <td>44679</td>\n",
       "      <td>149.171.126.3</td>\n",
       "      <td>111</td>\n",
       "      <td>17</td>\n",
       "      <td>11.0</td>\n",
       "      <td>568</td>\n",
       "      <td>4</td>\n",
       "      <td>312</td>\n",
       "      <td>4</td>\n",
       "      <td>0</td>\n",
       "      <td>0</td>\n",
       "      <td>0</td>\n",
       "      <td>4</td>\n",
       "      <td>3</td>\n",
       "      <td>3</td>\n",
       "      <td>31</td>\n",
       "      <td>32</td>\n",
       "      <td>142</td>\n",
       "      <td>76</td>\n",
       "      <td>76</td>\n",
       "      <td>142</td>\n",
       "      <td>78.0</td>\n",
       "      <td>142.0</td>\n",
       "      <td>0</td>\n",
       "      <td>0</td>\n",
       "      <td>0</td>\n",
       "      <td>0</td>\n",
       "      <td>908800</td>\n",
       "      <td>499200</td>\n",
       "      <td>4</td>\n",
       "      <td>4</td>\n",
       "      <td>0</td>\n",
       "      <td>0</td>\n",
       "      <td>0</td>\n",
       "      <td>0</td>\n",
       "      <td>0</td>\n",
       "      <td>0</td>\n",
       "      <td>0</td>\n",
       "      <td>0</td>\n",
       "      <td>0</td>\n",
       "      <td>0</td>\n",
       "      <td>0</td>\n",
       "      <td>0</td>\n",
       "      <td>3</td>\n",
       "      <td>1</td>\n",
       "      <td>1</td>\n",
       "      <td>0</td>\n",
       "      <td>3</td>\n",
       "      <td>1</td>\n",
       "      <td>1</td>\n",
       "      <td>0</td>\n",
       "      <td>Benign</td>\n",
       "    </tr>\n",
       "  </tbody>\n",
       "</table>\n",
       "</div>"
      ],
      "text/plain": [
       "        FLOW_START_MILLISECONDS  FLOW_END_MILLISECONDS IPV4_SRC_ADDR  \\\n",
       "197322            1424231888794          1424231888799    59.166.0.3   \n",
       "\n",
       "        L4_SRC_PORT  IPV4_DST_ADDR  L4_DST_PORT  PROTOCOL  L7_PROTO  IN_BYTES  \\\n",
       "197322        44679  149.171.126.3          111        17      11.0       568   \n",
       "\n",
       "        IN_PKTS  OUT_BYTES  OUT_PKTS  TCP_FLAGS  CLIENT_TCP_FLAGS  \\\n",
       "197322        4        312         4          0                 0   \n",
       "\n",
       "        SERVER_TCP_FLAGS  FLOW_DURATION_MILLISECONDS  DURATION_IN  \\\n",
       "197322                 0                           4            3   \n",
       "\n",
       "        DURATION_OUT  MIN_TTL  MAX_TTL  LONGEST_FLOW_PKT  SHORTEST_FLOW_PKT  \\\n",
       "197322             3       31       32               142                 76   \n",
       "\n",
       "        MIN_IP_PKT_LEN  MAX_IP_PKT_LEN  SRC_TO_DST_SECOND_BYTES  \\\n",
       "197322              76             142                     78.0   \n",
       "\n",
       "        DST_TO_SRC_SECOND_BYTES  RETRANSMITTED_IN_BYTES  \\\n",
       "197322                    142.0                       0   \n",
       "\n",
       "        RETRANSMITTED_IN_PKTS  RETRANSMITTED_OUT_BYTES  \\\n",
       "197322                      0                        0   \n",
       "\n",
       "        RETRANSMITTED_OUT_PKTS  SRC_TO_DST_AVG_THROUGHPUT  \\\n",
       "197322                       0                     908800   \n",
       "\n",
       "        DST_TO_SRC_AVG_THROUGHPUT  NUM_PKTS_UP_TO_128_BYTES  \\\n",
       "197322                     499200                         4   \n",
       "\n",
       "        NUM_PKTS_128_TO_256_BYTES  NUM_PKTS_256_TO_512_BYTES  \\\n",
       "197322                          4                          0   \n",
       "\n",
       "        NUM_PKTS_512_TO_1024_BYTES  NUM_PKTS_1024_TO_1514_BYTES  \\\n",
       "197322                           0                            0   \n",
       "\n",
       "        TCP_WIN_MAX_IN  TCP_WIN_MAX_OUT  ICMP_TYPE  ICMP_IPV4_TYPE  \\\n",
       "197322               0                0          0               0   \n",
       "\n",
       "        DNS_QUERY_ID  DNS_QUERY_TYPE  DNS_TTL_ANSWER  FTP_COMMAND_RET_CODE  \\\n",
       "197322             0               0               0                     0   \n",
       "\n",
       "        SRC_TO_DST_IAT_MIN  SRC_TO_DST_IAT_MAX  SRC_TO_DST_IAT_AVG  \\\n",
       "197322                   0                   3                   1   \n",
       "\n",
       "        SRC_TO_DST_IAT_STDDEV  DST_TO_SRC_IAT_MIN  DST_TO_SRC_IAT_MAX  \\\n",
       "197322                      1                   0                   3   \n",
       "\n",
       "        DST_TO_SRC_IAT_AVG  DST_TO_SRC_IAT_STDDEV  Label  Attack  \n",
       "197322                   1                      1      0  Benign  "
      ]
     },
     "execution_count": 18,
     "metadata": {},
     "output_type": "execute_result"
    }
   ],
   "source": [
    "df.sample()"
   ]
  },
  {
   "cell_type": "code",
   "execution_count": 19,
   "id": "aabe9519-d2a3-468f-9dcd-8a1223af07c5",
   "metadata": {},
   "outputs": [
    {
     "data": {
      "text/plain": [
       "1251185    59.166.0.0\n",
       "Name: IPV4_SRC_ADDR, dtype: object"
      ]
     },
     "execution_count": 19,
     "metadata": {},
     "output_type": "execute_result"
    }
   ],
   "source": [
    "df['IPV4_SRC_ADDR'].sample()"
   ]
  },
  {
   "cell_type": "code",
   "execution_count": 20,
   "id": "4e58fafa-c714-4775-b132-b834bc41eb91",
   "metadata": {},
   "outputs": [],
   "source": [
    "import ipaddress\n",
    "df['IPV4_SRC_ADDR_INT'] = df['IPV4_SRC_ADDR'].apply(lambda ip: int(ipaddress.IPv4Address(ip)))"
   ]
  },
  {
   "cell_type": "code",
   "execution_count": 21,
   "id": "7a0b33d4-abde-4243-8dca-c7d4f7653038",
   "metadata": {},
   "outputs": [
    {
     "data": {
      "text/plain": [
       "2324368    1000734727\n",
       "Name: IPV4_SRC_ADDR_INT, dtype: int64"
      ]
     },
     "execution_count": 21,
     "metadata": {},
     "output_type": "execute_result"
    }
   ],
   "source": [
    "df['IPV4_SRC_ADDR_INT'].sample()"
   ]
  },
  {
   "cell_type": "code",
   "execution_count": 22,
   "id": "0684d54a-770d-4e4c-8daf-74fdea4e5d54",
   "metadata": {},
   "outputs": [],
   "source": [
    "df['IPV4_DST_ADDR_INT'] = df['IPV4_DST_ADDR'].apply(lambda ip: int(ipaddress.IPv4Address(ip)))"
   ]
  },
  {
   "cell_type": "code",
   "execution_count": 23,
   "id": "22ff09da-b518-47c9-8567-f99c84c82bed",
   "metadata": {},
   "outputs": [
    {
     "data": {
      "text/plain": [
       "(2242931, 57)"
      ]
     },
     "execution_count": 23,
     "metadata": {},
     "output_type": "execute_result"
    }
   ],
   "source": [
    "df.shape"
   ]
  },
  {
   "cell_type": "code",
   "execution_count": 24,
   "id": "f139f5fb-f2e1-4857-90fe-73552831b203",
   "metadata": {},
   "outputs": [],
   "source": [
    "from sklearn.preprocessing import LabelEncoder\n",
    "\n",
    "encoder = LabelEncoder()\n",
    "df['Attack_Label'] = encoder.fit_transform(df['Attack'])\n"
   ]
  },
  {
   "cell_type": "code",
   "execution_count": 25,
   "id": "24464a50-62b7-4a2b-a778-3614d86ea8fc",
   "metadata": {},
   "outputs": [],
   "source": [
    "df_new=df.drop(columns=['IPV4_SRC_ADDR','IPV4_DST_ADDR','Attack'],axis=0)"
   ]
  },
  {
   "cell_type": "code",
   "execution_count": 26,
   "id": "1d0e8680-8276-4244-b954-40d604708558",
   "metadata": {},
   "outputs": [
    {
     "data": {
      "text/plain": [
       "(2242931, 55)"
      ]
     },
     "execution_count": 26,
     "metadata": {},
     "output_type": "execute_result"
    }
   ],
   "source": [
    "df_new.shape"
   ]
  },
  {
   "cell_type": "code",
   "execution_count": 27,
   "id": "dfe4fc6b-77a7-4ec5-9518-812b88388ddc",
   "metadata": {},
   "outputs": [
    {
     "data": {
      "text/html": [
       "<div>\n",
       "<style scoped>\n",
       "    .dataframe tbody tr th:only-of-type {\n",
       "        vertical-align: middle;\n",
       "    }\n",
       "\n",
       "    .dataframe tbody tr th {\n",
       "        vertical-align: top;\n",
       "    }\n",
       "\n",
       "    .dataframe thead th {\n",
       "        text-align: right;\n",
       "    }\n",
       "</style>\n",
       "<table border=\"1\" class=\"dataframe\">\n",
       "  <thead>\n",
       "    <tr style=\"text-align: right;\">\n",
       "      <th></th>\n",
       "      <th>FLOW_START_MILLISECONDS</th>\n",
       "      <th>FLOW_END_MILLISECONDS</th>\n",
       "      <th>L4_SRC_PORT</th>\n",
       "      <th>L4_DST_PORT</th>\n",
       "      <th>PROTOCOL</th>\n",
       "      <th>L7_PROTO</th>\n",
       "      <th>IN_BYTES</th>\n",
       "      <th>IN_PKTS</th>\n",
       "      <th>OUT_BYTES</th>\n",
       "      <th>OUT_PKTS</th>\n",
       "      <th>TCP_FLAGS</th>\n",
       "      <th>CLIENT_TCP_FLAGS</th>\n",
       "      <th>SERVER_TCP_FLAGS</th>\n",
       "      <th>FLOW_DURATION_MILLISECONDS</th>\n",
       "      <th>DURATION_IN</th>\n",
       "      <th>DURATION_OUT</th>\n",
       "      <th>MIN_TTL</th>\n",
       "      <th>MAX_TTL</th>\n",
       "      <th>LONGEST_FLOW_PKT</th>\n",
       "      <th>SHORTEST_FLOW_PKT</th>\n",
       "      <th>MIN_IP_PKT_LEN</th>\n",
       "      <th>MAX_IP_PKT_LEN</th>\n",
       "      <th>SRC_TO_DST_SECOND_BYTES</th>\n",
       "      <th>DST_TO_SRC_SECOND_BYTES</th>\n",
       "      <th>RETRANSMITTED_IN_BYTES</th>\n",
       "      <th>RETRANSMITTED_IN_PKTS</th>\n",
       "      <th>RETRANSMITTED_OUT_BYTES</th>\n",
       "      <th>RETRANSMITTED_OUT_PKTS</th>\n",
       "      <th>SRC_TO_DST_AVG_THROUGHPUT</th>\n",
       "      <th>DST_TO_SRC_AVG_THROUGHPUT</th>\n",
       "      <th>NUM_PKTS_UP_TO_128_BYTES</th>\n",
       "      <th>NUM_PKTS_128_TO_256_BYTES</th>\n",
       "      <th>NUM_PKTS_256_TO_512_BYTES</th>\n",
       "      <th>NUM_PKTS_512_TO_1024_BYTES</th>\n",
       "      <th>NUM_PKTS_1024_TO_1514_BYTES</th>\n",
       "      <th>TCP_WIN_MAX_IN</th>\n",
       "      <th>TCP_WIN_MAX_OUT</th>\n",
       "      <th>ICMP_TYPE</th>\n",
       "      <th>ICMP_IPV4_TYPE</th>\n",
       "      <th>DNS_QUERY_ID</th>\n",
       "      <th>DNS_QUERY_TYPE</th>\n",
       "      <th>DNS_TTL_ANSWER</th>\n",
       "      <th>FTP_COMMAND_RET_CODE</th>\n",
       "      <th>SRC_TO_DST_IAT_MIN</th>\n",
       "      <th>SRC_TO_DST_IAT_MAX</th>\n",
       "      <th>SRC_TO_DST_IAT_AVG</th>\n",
       "      <th>SRC_TO_DST_IAT_STDDEV</th>\n",
       "      <th>DST_TO_SRC_IAT_MIN</th>\n",
       "      <th>DST_TO_SRC_IAT_MAX</th>\n",
       "      <th>DST_TO_SRC_IAT_AVG</th>\n",
       "      <th>DST_TO_SRC_IAT_STDDEV</th>\n",
       "      <th>Label</th>\n",
       "      <th>IPV4_SRC_ADDR_INT</th>\n",
       "      <th>IPV4_DST_ADDR_INT</th>\n",
       "      <th>Attack_Label</th>\n",
       "    </tr>\n",
       "  </thead>\n",
       "  <tbody>\n",
       "    <tr>\n",
       "      <th>267735</th>\n",
       "      <td>1424223160374</td>\n",
       "      <td>1424223160375</td>\n",
       "      <td>28609</td>\n",
       "      <td>61842</td>\n",
       "      <td>17</td>\n",
       "      <td>11.0</td>\n",
       "      <td>536</td>\n",
       "      <td>4</td>\n",
       "      <td>304</td>\n",
       "      <td>4</td>\n",
       "      <td>0</td>\n",
       "      <td>0</td>\n",
       "      <td>0</td>\n",
       "      <td>1</td>\n",
       "      <td>1</td>\n",
       "      <td>0</td>\n",
       "      <td>31</td>\n",
       "      <td>32</td>\n",
       "      <td>152</td>\n",
       "      <td>52</td>\n",
       "      <td>52</td>\n",
       "      <td>152</td>\n",
       "      <td>304.0</td>\n",
       "      <td>536.0</td>\n",
       "      <td>0</td>\n",
       "      <td>0</td>\n",
       "      <td>0</td>\n",
       "      <td>0</td>\n",
       "      <td>2144000</td>\n",
       "      <td>1216000</td>\n",
       "      <td>6</td>\n",
       "      <td>2</td>\n",
       "      <td>0</td>\n",
       "      <td>0</td>\n",
       "      <td>0</td>\n",
       "      <td>0</td>\n",
       "      <td>0</td>\n",
       "      <td>0</td>\n",
       "      <td>0</td>\n",
       "      <td>0</td>\n",
       "      <td>0</td>\n",
       "      <td>0</td>\n",
       "      <td>0</td>\n",
       "      <td>0</td>\n",
       "      <td>1</td>\n",
       "      <td>0</td>\n",
       "      <td>0</td>\n",
       "      <td>0</td>\n",
       "      <td>0</td>\n",
       "      <td>0</td>\n",
       "      <td>0</td>\n",
       "      <td>0</td>\n",
       "      <td>1000734724</td>\n",
       "      <td>2511044096</td>\n",
       "      <td>2</td>\n",
       "    </tr>\n",
       "  </tbody>\n",
       "</table>\n",
       "</div>"
      ],
      "text/plain": [
       "        FLOW_START_MILLISECONDS  FLOW_END_MILLISECONDS  L4_SRC_PORT  \\\n",
       "267735            1424223160374          1424223160375        28609   \n",
       "\n",
       "        L4_DST_PORT  PROTOCOL  L7_PROTO  IN_BYTES  IN_PKTS  OUT_BYTES  \\\n",
       "267735        61842        17      11.0       536        4        304   \n",
       "\n",
       "        OUT_PKTS  TCP_FLAGS  CLIENT_TCP_FLAGS  SERVER_TCP_FLAGS  \\\n",
       "267735         4          0                 0                 0   \n",
       "\n",
       "        FLOW_DURATION_MILLISECONDS  DURATION_IN  DURATION_OUT  MIN_TTL  \\\n",
       "267735                           1            1             0       31   \n",
       "\n",
       "        MAX_TTL  LONGEST_FLOW_PKT  SHORTEST_FLOW_PKT  MIN_IP_PKT_LEN  \\\n",
       "267735       32               152                 52              52   \n",
       "\n",
       "        MAX_IP_PKT_LEN  SRC_TO_DST_SECOND_BYTES  DST_TO_SRC_SECOND_BYTES  \\\n",
       "267735             152                    304.0                    536.0   \n",
       "\n",
       "        RETRANSMITTED_IN_BYTES  RETRANSMITTED_IN_PKTS  \\\n",
       "267735                       0                      0   \n",
       "\n",
       "        RETRANSMITTED_OUT_BYTES  RETRANSMITTED_OUT_PKTS  \\\n",
       "267735                        0                       0   \n",
       "\n",
       "        SRC_TO_DST_AVG_THROUGHPUT  DST_TO_SRC_AVG_THROUGHPUT  \\\n",
       "267735                    2144000                    1216000   \n",
       "\n",
       "        NUM_PKTS_UP_TO_128_BYTES  NUM_PKTS_128_TO_256_BYTES  \\\n",
       "267735                         6                          2   \n",
       "\n",
       "        NUM_PKTS_256_TO_512_BYTES  NUM_PKTS_512_TO_1024_BYTES  \\\n",
       "267735                          0                           0   \n",
       "\n",
       "        NUM_PKTS_1024_TO_1514_BYTES  TCP_WIN_MAX_IN  TCP_WIN_MAX_OUT  \\\n",
       "267735                            0               0                0   \n",
       "\n",
       "        ICMP_TYPE  ICMP_IPV4_TYPE  DNS_QUERY_ID  DNS_QUERY_TYPE  \\\n",
       "267735          0               0             0               0   \n",
       "\n",
       "        DNS_TTL_ANSWER  FTP_COMMAND_RET_CODE  SRC_TO_DST_IAT_MIN  \\\n",
       "267735               0                     0                   0   \n",
       "\n",
       "        SRC_TO_DST_IAT_MAX  SRC_TO_DST_IAT_AVG  SRC_TO_DST_IAT_STDDEV  \\\n",
       "267735                   1                   0                      0   \n",
       "\n",
       "        DST_TO_SRC_IAT_MIN  DST_TO_SRC_IAT_MAX  DST_TO_SRC_IAT_AVG  \\\n",
       "267735                   0                   0                   0   \n",
       "\n",
       "        DST_TO_SRC_IAT_STDDEV  Label  IPV4_SRC_ADDR_INT  IPV4_DST_ADDR_INT  \\\n",
       "267735                      0      0         1000734724         2511044096   \n",
       "\n",
       "        Attack_Label  \n",
       "267735             2  "
      ]
     },
     "execution_count": 27,
     "metadata": {},
     "output_type": "execute_result"
    }
   ],
   "source": [
    "df_new.sample()"
   ]
  },
  {
   "cell_type": "code",
   "execution_count": 28,
   "id": "e2e44ffc-a896-4d6e-aa0d-52ec9b54df2d",
   "metadata": {},
   "outputs": [],
   "source": [
    "X=df_new.drop('Attack_Label',axis=1)"
   ]
  },
  {
   "cell_type": "code",
   "execution_count": 29,
   "id": "72a2f951-7001-4ffe-b281-9039d61c016d",
   "metadata": {},
   "outputs": [
    {
     "data": {
      "text/html": [
       "<div>\n",
       "<style scoped>\n",
       "    .dataframe tbody tr th:only-of-type {\n",
       "        vertical-align: middle;\n",
       "    }\n",
       "\n",
       "    .dataframe tbody tr th {\n",
       "        vertical-align: top;\n",
       "    }\n",
       "\n",
       "    .dataframe thead th {\n",
       "        text-align: right;\n",
       "    }\n",
       "</style>\n",
       "<table border=\"1\" class=\"dataframe\">\n",
       "  <thead>\n",
       "    <tr style=\"text-align: right;\">\n",
       "      <th></th>\n",
       "      <th>FLOW_START_MILLISECONDS</th>\n",
       "      <th>FLOW_END_MILLISECONDS</th>\n",
       "      <th>L4_SRC_PORT</th>\n",
       "      <th>L4_DST_PORT</th>\n",
       "      <th>PROTOCOL</th>\n",
       "      <th>L7_PROTO</th>\n",
       "      <th>IN_BYTES</th>\n",
       "      <th>IN_PKTS</th>\n",
       "      <th>OUT_BYTES</th>\n",
       "      <th>OUT_PKTS</th>\n",
       "      <th>TCP_FLAGS</th>\n",
       "      <th>CLIENT_TCP_FLAGS</th>\n",
       "      <th>SERVER_TCP_FLAGS</th>\n",
       "      <th>FLOW_DURATION_MILLISECONDS</th>\n",
       "      <th>DURATION_IN</th>\n",
       "      <th>DURATION_OUT</th>\n",
       "      <th>MIN_TTL</th>\n",
       "      <th>MAX_TTL</th>\n",
       "      <th>LONGEST_FLOW_PKT</th>\n",
       "      <th>SHORTEST_FLOW_PKT</th>\n",
       "      <th>MIN_IP_PKT_LEN</th>\n",
       "      <th>MAX_IP_PKT_LEN</th>\n",
       "      <th>SRC_TO_DST_SECOND_BYTES</th>\n",
       "      <th>DST_TO_SRC_SECOND_BYTES</th>\n",
       "      <th>RETRANSMITTED_IN_BYTES</th>\n",
       "      <th>RETRANSMITTED_IN_PKTS</th>\n",
       "      <th>RETRANSMITTED_OUT_BYTES</th>\n",
       "      <th>RETRANSMITTED_OUT_PKTS</th>\n",
       "      <th>SRC_TO_DST_AVG_THROUGHPUT</th>\n",
       "      <th>DST_TO_SRC_AVG_THROUGHPUT</th>\n",
       "      <th>NUM_PKTS_UP_TO_128_BYTES</th>\n",
       "      <th>NUM_PKTS_128_TO_256_BYTES</th>\n",
       "      <th>NUM_PKTS_256_TO_512_BYTES</th>\n",
       "      <th>NUM_PKTS_512_TO_1024_BYTES</th>\n",
       "      <th>NUM_PKTS_1024_TO_1514_BYTES</th>\n",
       "      <th>TCP_WIN_MAX_IN</th>\n",
       "      <th>TCP_WIN_MAX_OUT</th>\n",
       "      <th>ICMP_TYPE</th>\n",
       "      <th>ICMP_IPV4_TYPE</th>\n",
       "      <th>DNS_QUERY_ID</th>\n",
       "      <th>DNS_QUERY_TYPE</th>\n",
       "      <th>DNS_TTL_ANSWER</th>\n",
       "      <th>FTP_COMMAND_RET_CODE</th>\n",
       "      <th>SRC_TO_DST_IAT_MIN</th>\n",
       "      <th>SRC_TO_DST_IAT_MAX</th>\n",
       "      <th>SRC_TO_DST_IAT_AVG</th>\n",
       "      <th>SRC_TO_DST_IAT_STDDEV</th>\n",
       "      <th>DST_TO_SRC_IAT_MIN</th>\n",
       "      <th>DST_TO_SRC_IAT_MAX</th>\n",
       "      <th>DST_TO_SRC_IAT_AVG</th>\n",
       "      <th>DST_TO_SRC_IAT_STDDEV</th>\n",
       "      <th>Label</th>\n",
       "      <th>IPV4_SRC_ADDR_INT</th>\n",
       "      <th>IPV4_DST_ADDR_INT</th>\n",
       "    </tr>\n",
       "  </thead>\n",
       "  <tbody>\n",
       "    <tr>\n",
       "      <th>2344266</th>\n",
       "      <td>1421971905248</td>\n",
       "      <td>1421971905562</td>\n",
       "      <td>59709</td>\n",
       "      <td>21</td>\n",
       "      <td>6</td>\n",
       "      <td>37.0</td>\n",
       "      <td>2059</td>\n",
       "      <td>37</td>\n",
       "      <td>2814</td>\n",
       "      <td>39</td>\n",
       "      <td>24</td>\n",
       "      <td>24</td>\n",
       "      <td>24</td>\n",
       "      <td>313</td>\n",
       "      <td>302</td>\n",
       "      <td>312</td>\n",
       "      <td>31</td>\n",
       "      <td>32</td>\n",
       "      <td>106</td>\n",
       "      <td>52</td>\n",
       "      <td>52</td>\n",
       "      <td>106</td>\n",
       "      <td>8.990415</td>\n",
       "      <td>6.578275</td>\n",
       "      <td>505</td>\n",
       "      <td>8</td>\n",
       "      <td>886</td>\n",
       "      <td>10</td>\n",
       "      <td>52458</td>\n",
       "      <td>71694</td>\n",
       "      <td>87</td>\n",
       "      <td>0</td>\n",
       "      <td>0</td>\n",
       "      <td>0</td>\n",
       "      <td>0</td>\n",
       "      <td>21720</td>\n",
       "      <td>18824</td>\n",
       "      <td>63744</td>\n",
       "      <td>249</td>\n",
       "      <td>0</td>\n",
       "      <td>0</td>\n",
       "      <td>0</td>\n",
       "      <td>125</td>\n",
       "      <td>0</td>\n",
       "      <td>131</td>\n",
       "      <td>6</td>\n",
       "      <td>24</td>\n",
       "      <td>0</td>\n",
       "      <td>221</td>\n",
       "      <td>7</td>\n",
       "      <td>34</td>\n",
       "      <td>0</td>\n",
       "      <td>1000734726</td>\n",
       "      <td>2511044097</td>\n",
       "    </tr>\n",
       "  </tbody>\n",
       "</table>\n",
       "</div>"
      ],
      "text/plain": [
       "         FLOW_START_MILLISECONDS  FLOW_END_MILLISECONDS  L4_SRC_PORT  \\\n",
       "2344266            1421971905248          1421971905562        59709   \n",
       "\n",
       "         L4_DST_PORT  PROTOCOL  L7_PROTO  IN_BYTES  IN_PKTS  OUT_BYTES  \\\n",
       "2344266           21         6      37.0      2059       37       2814   \n",
       "\n",
       "         OUT_PKTS  TCP_FLAGS  CLIENT_TCP_FLAGS  SERVER_TCP_FLAGS  \\\n",
       "2344266        39         24                24                24   \n",
       "\n",
       "         FLOW_DURATION_MILLISECONDS  DURATION_IN  DURATION_OUT  MIN_TTL  \\\n",
       "2344266                         313          302           312       31   \n",
       "\n",
       "         MAX_TTL  LONGEST_FLOW_PKT  SHORTEST_FLOW_PKT  MIN_IP_PKT_LEN  \\\n",
       "2344266       32               106                 52              52   \n",
       "\n",
       "         MAX_IP_PKT_LEN  SRC_TO_DST_SECOND_BYTES  DST_TO_SRC_SECOND_BYTES  \\\n",
       "2344266             106                 8.990415                 6.578275   \n",
       "\n",
       "         RETRANSMITTED_IN_BYTES  RETRANSMITTED_IN_PKTS  \\\n",
       "2344266                     505                      8   \n",
       "\n",
       "         RETRANSMITTED_OUT_BYTES  RETRANSMITTED_OUT_PKTS  \\\n",
       "2344266                      886                      10   \n",
       "\n",
       "         SRC_TO_DST_AVG_THROUGHPUT  DST_TO_SRC_AVG_THROUGHPUT  \\\n",
       "2344266                      52458                      71694   \n",
       "\n",
       "         NUM_PKTS_UP_TO_128_BYTES  NUM_PKTS_128_TO_256_BYTES  \\\n",
       "2344266                        87                          0   \n",
       "\n",
       "         NUM_PKTS_256_TO_512_BYTES  NUM_PKTS_512_TO_1024_BYTES  \\\n",
       "2344266                          0                           0   \n",
       "\n",
       "         NUM_PKTS_1024_TO_1514_BYTES  TCP_WIN_MAX_IN  TCP_WIN_MAX_OUT  \\\n",
       "2344266                            0           21720            18824   \n",
       "\n",
       "         ICMP_TYPE  ICMP_IPV4_TYPE  DNS_QUERY_ID  DNS_QUERY_TYPE  \\\n",
       "2344266      63744             249             0               0   \n",
       "\n",
       "         DNS_TTL_ANSWER  FTP_COMMAND_RET_CODE  SRC_TO_DST_IAT_MIN  \\\n",
       "2344266               0                   125                   0   \n",
       "\n",
       "         SRC_TO_DST_IAT_MAX  SRC_TO_DST_IAT_AVG  SRC_TO_DST_IAT_STDDEV  \\\n",
       "2344266                 131                   6                     24   \n",
       "\n",
       "         DST_TO_SRC_IAT_MIN  DST_TO_SRC_IAT_MAX  DST_TO_SRC_IAT_AVG  \\\n",
       "2344266                   0                 221                   7   \n",
       "\n",
       "         DST_TO_SRC_IAT_STDDEV  Label  IPV4_SRC_ADDR_INT  IPV4_DST_ADDR_INT  \n",
       "2344266                     34      0         1000734726         2511044097  "
      ]
     },
     "execution_count": 29,
     "metadata": {},
     "output_type": "execute_result"
    }
   ],
   "source": [
    "X.sample()"
   ]
  },
  {
   "cell_type": "code",
   "execution_count": 30,
   "id": "56ee989d-95c3-4df2-9359-77d5dc025674",
   "metadata": {},
   "outputs": [],
   "source": [
    "Y=df_new['Attack_Label'].copy()"
   ]
  },
  {
   "cell_type": "code",
   "execution_count": 31,
   "id": "5681f2ad-34c7-4d30-9a26-52ccacd5d3dc",
   "metadata": {},
   "outputs": [
    {
     "data": {
      "text/plain": [
       "Attack_Label\n",
       "2    2151027\n",
       "4      38816\n",
       "5      25588\n",
       "7      11291\n",
       "3       5050\n",
       "6       4760\n",
       "1       3451\n",
       "8       1586\n",
       "0       1226\n",
       "9        136\n",
       "Name: count, dtype: int64"
      ]
     },
     "execution_count": 31,
     "metadata": {},
     "output_type": "execute_result"
    }
   ],
   "source": [
    "Y.value_counts()"
   ]
  },
  {
   "cell_type": "code",
   "execution_count": 32,
   "id": "abb043bc-4b25-4ac6-9d51-9a3047c59841",
   "metadata": {},
   "outputs": [],
   "source": [
    "# Benign             =2          2237731\n",
    "# Exploits           =4          42748\n",
    "# Fuzzers            =5          33816\n",
    "# Generic            =7          19651\n",
    "# Reconnaissance     =3          17074\n",
    "# DoS                =6          5980\n",
    "# Backdoor           =1          4659\n",
    "# Shellcode          =8          2381\n",
    "# Analysis           =0          1226\n",
    "# Worms              =9          158"
   ]
  },
  {
   "cell_type": "code",
   "execution_count": null,
   "id": "2c15e204-fcb1-4b6b-aaa0-580ba51f0728",
   "metadata": {},
   "outputs": [],
   "source": []
  },
  {
   "cell_type": "code",
   "execution_count": 33,
   "id": "91fbbcb6-dd79-41f0-818e-fec4f4684043",
   "metadata": {},
   "outputs": [],
   "source": [
    "# from sklearn.preprocessing import PowerTransformer\n",
    "\n",
    "# pt = PowerTransformer(method='yeo-johnson', standardize=False)\n",
    "# X_transformed = pt.fit_transform(X)\n",
    "   # Replace inf with NaN\n"
   ]
  },
  {
   "cell_type": "code",
   "execution_count": null,
   "id": "e00ceb5f-726c-40f7-85c8-0fbc73200f8c",
   "metadata": {},
   "outputs": [],
   "source": []
  },
  {
   "cell_type": "code",
   "execution_count": null,
   "id": "a72ab432-4d5e-473a-8793-91d1a8ccf49e",
   "metadata": {},
   "outputs": [],
   "source": []
  },
  {
   "cell_type": "code",
   "execution_count": null,
   "id": "056340bc-5044-4c5a-8742-b457cd474ecd",
   "metadata": {},
   "outputs": [],
   "source": [
    "                     # Drop rows with NaN"
   ]
  },
  {
   "cell_type": "code",
   "execution_count": 36,
   "id": "0ba68599-57f8-4db1-82f3-3c7555589deb",
   "metadata": {},
   "outputs": [
    {
     "name": "stderr",
     "output_type": "stream",
     "text": [
      "/home/cghosh/tf_gpu/tfgpu1/lib/python3.12/site-packages/numpy/core/_methods.py:176: RuntimeWarning: overflow encountered in multiply\n",
      "  x = um.multiply(x, x, out=x)\n",
      "/home/cghosh/tf_gpu/tfgpu1/lib/python3.12/site-packages/numpy/core/_methods.py:187: RuntimeWarning: overflow encountered in reduce\n",
      "  ret = umr_sum(x, axis, dtype, out, keepdims=keepdims, where=where)\n"
     ]
    }
   ],
   "source": [
    "from sklearn.preprocessing import PowerTransformer, MinMaxScaler\n",
    "\n",
    "# Let's say X is your original DataFrame\n",
    "original_feature_names = X.columns\n",
    "\n",
    "# Box-Cox transformation\n",
    "pt = PowerTransformer(method='yeo-johnson', standardize=False)\n",
    "X_boxcox = pt.fit_transform(X)\n",
    "\n",
    "# Normalize (Min-Max scaling)\n",
    "scaler = MinMaxScaler()\n",
    "X_scaled = scaler.fit_transform(X_boxcox)\n",
    "\n",
    "# Wrap back into a DataFrame with original column names\n",
    "X_preprocessed = pd.DataFrame(X_scaled, columns=original_feature_names)\n"
   ]
  },
  {
   "cell_type": "code",
   "execution_count": 38,
   "id": "f0baeb7d-d1e8-4b12-8f96-b0a823e72cdb",
   "metadata": {},
   "outputs": [],
   "source": [
    "# from sklearn.preprocessing import MinMaxScaler\n",
    "\n",
    "# scaler = MinMaxScaler()\n",
    "# X_scaled=scaler.fit_transform(X)\n",
    "# print(scaler.fit(data))\n",
    "# MinMaxScaler()\n",
    "# print(scaler.data_max_)\n",
    "# [ 1. 18.]\n",
    "# print(scaler.transform(data))"
   ]
  },
  {
   "cell_type": "code",
   "execution_count": 39,
   "id": "83201a78-b373-4285-b207-4dd4eb1032c5",
   "metadata": {},
   "outputs": [
    {
     "data": {
      "text/html": [
       "<div>\n",
       "<style scoped>\n",
       "    .dataframe tbody tr th:only-of-type {\n",
       "        vertical-align: middle;\n",
       "    }\n",
       "\n",
       "    .dataframe tbody tr th {\n",
       "        vertical-align: top;\n",
       "    }\n",
       "\n",
       "    .dataframe thead th {\n",
       "        text-align: right;\n",
       "    }\n",
       "</style>\n",
       "<table border=\"1\" class=\"dataframe\">\n",
       "  <thead>\n",
       "    <tr style=\"text-align: right;\">\n",
       "      <th></th>\n",
       "      <th>FLOW_START_MILLISECONDS</th>\n",
       "      <th>FLOW_END_MILLISECONDS</th>\n",
       "      <th>L4_SRC_PORT</th>\n",
       "      <th>L4_DST_PORT</th>\n",
       "      <th>PROTOCOL</th>\n",
       "      <th>L7_PROTO</th>\n",
       "      <th>IN_BYTES</th>\n",
       "      <th>IN_PKTS</th>\n",
       "      <th>OUT_BYTES</th>\n",
       "      <th>OUT_PKTS</th>\n",
       "      <th>TCP_FLAGS</th>\n",
       "      <th>CLIENT_TCP_FLAGS</th>\n",
       "      <th>SERVER_TCP_FLAGS</th>\n",
       "      <th>FLOW_DURATION_MILLISECONDS</th>\n",
       "      <th>DURATION_IN</th>\n",
       "      <th>DURATION_OUT</th>\n",
       "      <th>MIN_TTL</th>\n",
       "      <th>MAX_TTL</th>\n",
       "      <th>LONGEST_FLOW_PKT</th>\n",
       "      <th>SHORTEST_FLOW_PKT</th>\n",
       "      <th>MIN_IP_PKT_LEN</th>\n",
       "      <th>MAX_IP_PKT_LEN</th>\n",
       "      <th>SRC_TO_DST_SECOND_BYTES</th>\n",
       "      <th>DST_TO_SRC_SECOND_BYTES</th>\n",
       "      <th>RETRANSMITTED_IN_BYTES</th>\n",
       "      <th>RETRANSMITTED_IN_PKTS</th>\n",
       "      <th>RETRANSMITTED_OUT_BYTES</th>\n",
       "      <th>RETRANSMITTED_OUT_PKTS</th>\n",
       "      <th>SRC_TO_DST_AVG_THROUGHPUT</th>\n",
       "      <th>DST_TO_SRC_AVG_THROUGHPUT</th>\n",
       "      <th>NUM_PKTS_UP_TO_128_BYTES</th>\n",
       "      <th>NUM_PKTS_128_TO_256_BYTES</th>\n",
       "      <th>NUM_PKTS_256_TO_512_BYTES</th>\n",
       "      <th>NUM_PKTS_512_TO_1024_BYTES</th>\n",
       "      <th>NUM_PKTS_1024_TO_1514_BYTES</th>\n",
       "      <th>TCP_WIN_MAX_IN</th>\n",
       "      <th>TCP_WIN_MAX_OUT</th>\n",
       "      <th>ICMP_TYPE</th>\n",
       "      <th>ICMP_IPV4_TYPE</th>\n",
       "      <th>DNS_QUERY_ID</th>\n",
       "      <th>DNS_QUERY_TYPE</th>\n",
       "      <th>DNS_TTL_ANSWER</th>\n",
       "      <th>FTP_COMMAND_RET_CODE</th>\n",
       "      <th>SRC_TO_DST_IAT_MIN</th>\n",
       "      <th>SRC_TO_DST_IAT_MAX</th>\n",
       "      <th>SRC_TO_DST_IAT_AVG</th>\n",
       "      <th>SRC_TO_DST_IAT_STDDEV</th>\n",
       "      <th>DST_TO_SRC_IAT_MIN</th>\n",
       "      <th>DST_TO_SRC_IAT_MAX</th>\n",
       "      <th>DST_TO_SRC_IAT_AVG</th>\n",
       "      <th>DST_TO_SRC_IAT_STDDEV</th>\n",
       "      <th>Label</th>\n",
       "      <th>IPV4_SRC_ADDR_INT</th>\n",
       "      <th>IPV4_DST_ADDR_INT</th>\n",
       "    </tr>\n",
       "  </thead>\n",
       "  <tbody>\n",
       "    <tr>\n",
       "      <th>1264875</th>\n",
       "      <td>0.002068</td>\n",
       "      <td>0.002054</td>\n",
       "      <td>0.985017</td>\n",
       "      <td>0.579025</td>\n",
       "      <td>0.955713</td>\n",
       "      <td>0.092864</td>\n",
       "      <td>0.380722</td>\n",
       "      <td>0.456828</td>\n",
       "      <td>0.707522</td>\n",
       "      <td>0.603467</td>\n",
       "      <td>0.829463</td>\n",
       "      <td>0.833429</td>\n",
       "      <td>0.837019</td>\n",
       "      <td>0.741289</td>\n",
       "      <td>0.722364</td>\n",
       "      <td>0.713172</td>\n",
       "      <td>0.874039</td>\n",
       "      <td>0.873156</td>\n",
       "      <td>0.999318</td>\n",
       "      <td>0.716057</td>\n",
       "      <td>0.185684</td>\n",
       "      <td>0.999318</td>\n",
       "      <td>0.153903</td>\n",
       "      <td>0.090714</td>\n",
       "      <td>0.214505</td>\n",
       "      <td>0.319247</td>\n",
       "      <td>0.408791</td>\n",
       "      <td>0.551268</td>\n",
       "      <td>0.276856</td>\n",
       "      <td>0.436614</td>\n",
       "      <td>0.600792</td>\n",
       "      <td>0.995815</td>\n",
       "      <td>0.795835</td>\n",
       "      <td>0.986861</td>\n",
       "      <td>0.402274</td>\n",
       "      <td>0.920117</td>\n",
       "      <td>0.887132</td>\n",
       "      <td>0.984064</td>\n",
       "      <td>0.976387</td>\n",
       "      <td>0.0</td>\n",
       "      <td>0.0</td>\n",
       "      <td>0.0</td>\n",
       "      <td>0.0</td>\n",
       "      <td>0.0</td>\n",
       "      <td>0.702164</td>\n",
       "      <td>0.751729</td>\n",
       "      <td>0.717364</td>\n",
       "      <td>0.0</td>\n",
       "      <td>0.694611</td>\n",
       "      <td>0.76366</td>\n",
       "      <td>0.716984</td>\n",
       "      <td>0.0</td>\n",
       "      <td>0.817437</td>\n",
       "      <td>0.369849</td>\n",
       "    </tr>\n",
       "  </tbody>\n",
       "</table>\n",
       "</div>"
      ],
      "text/plain": [
       "         FLOW_START_MILLISECONDS  FLOW_END_MILLISECONDS  L4_SRC_PORT  \\\n",
       "1264875                 0.002068               0.002054     0.985017   \n",
       "\n",
       "         L4_DST_PORT  PROTOCOL  L7_PROTO  IN_BYTES   IN_PKTS  OUT_BYTES  \\\n",
       "1264875     0.579025  0.955713  0.092864  0.380722  0.456828   0.707522   \n",
       "\n",
       "         OUT_PKTS  TCP_FLAGS  CLIENT_TCP_FLAGS  SERVER_TCP_FLAGS  \\\n",
       "1264875  0.603467   0.829463          0.833429          0.837019   \n",
       "\n",
       "         FLOW_DURATION_MILLISECONDS  DURATION_IN  DURATION_OUT   MIN_TTL  \\\n",
       "1264875                    0.741289     0.722364      0.713172  0.874039   \n",
       "\n",
       "          MAX_TTL  LONGEST_FLOW_PKT  SHORTEST_FLOW_PKT  MIN_IP_PKT_LEN  \\\n",
       "1264875  0.873156          0.999318           0.716057        0.185684   \n",
       "\n",
       "         MAX_IP_PKT_LEN  SRC_TO_DST_SECOND_BYTES  DST_TO_SRC_SECOND_BYTES  \\\n",
       "1264875        0.999318                 0.153903                 0.090714   \n",
       "\n",
       "         RETRANSMITTED_IN_BYTES  RETRANSMITTED_IN_PKTS  \\\n",
       "1264875                0.214505               0.319247   \n",
       "\n",
       "         RETRANSMITTED_OUT_BYTES  RETRANSMITTED_OUT_PKTS  \\\n",
       "1264875                 0.408791                0.551268   \n",
       "\n",
       "         SRC_TO_DST_AVG_THROUGHPUT  DST_TO_SRC_AVG_THROUGHPUT  \\\n",
       "1264875                   0.276856                   0.436614   \n",
       "\n",
       "         NUM_PKTS_UP_TO_128_BYTES  NUM_PKTS_128_TO_256_BYTES  \\\n",
       "1264875                  0.600792                   0.995815   \n",
       "\n",
       "         NUM_PKTS_256_TO_512_BYTES  NUM_PKTS_512_TO_1024_BYTES  \\\n",
       "1264875                   0.795835                    0.986861   \n",
       "\n",
       "         NUM_PKTS_1024_TO_1514_BYTES  TCP_WIN_MAX_IN  TCP_WIN_MAX_OUT  \\\n",
       "1264875                     0.402274        0.920117         0.887132   \n",
       "\n",
       "         ICMP_TYPE  ICMP_IPV4_TYPE  DNS_QUERY_ID  DNS_QUERY_TYPE  \\\n",
       "1264875   0.984064        0.976387           0.0             0.0   \n",
       "\n",
       "         DNS_TTL_ANSWER  FTP_COMMAND_RET_CODE  SRC_TO_DST_IAT_MIN  \\\n",
       "1264875             0.0                   0.0                 0.0   \n",
       "\n",
       "         SRC_TO_DST_IAT_MAX  SRC_TO_DST_IAT_AVG  SRC_TO_DST_IAT_STDDEV  \\\n",
       "1264875            0.702164            0.751729               0.717364   \n",
       "\n",
       "         DST_TO_SRC_IAT_MIN  DST_TO_SRC_IAT_MAX  DST_TO_SRC_IAT_AVG  \\\n",
       "1264875                 0.0            0.694611             0.76366   \n",
       "\n",
       "         DST_TO_SRC_IAT_STDDEV  Label  IPV4_SRC_ADDR_INT  IPV4_DST_ADDR_INT  \n",
       "1264875               0.716984    0.0           0.817437           0.369849  "
      ]
     },
     "execution_count": 39,
     "metadata": {},
     "output_type": "execute_result"
    }
   ],
   "source": [
    "X_preprocessed.sample()"
   ]
  },
  {
   "cell_type": "code",
   "execution_count": 40,
   "id": "7bb0790b-e9d3-437f-993f-b995810ba7f9",
   "metadata": {},
   "outputs": [],
   "source": [
    "X1 = X_preprocessed.iloc[:, 0:9]     # Columns 0–8\n",
    "X2 = X_preprocessed.iloc[:, 9:18]    # Columns 9–17\n",
    "X3 = X_preprocessed.iloc[:, 18:27]   # Columns 18–26\n",
    "X4 = X_preprocessed.iloc[:, 27:36]   # Columns 27–35\n",
    "X5 = X_preprocessed.iloc[:, 36:45]   # Columns 36–44\n",
    "X6 = X_preprocessed.iloc[:, 45:54]   # Columns 45–53"
   ]
  },
  {
   "cell_type": "code",
   "execution_count": 41,
   "id": "faf42ef8-b1ee-42a1-a146-6b02eeec47aa",
   "metadata": {},
   "outputs": [
    {
     "data": {
      "text/plain": [
       "(2242931, 54)"
      ]
     },
     "execution_count": 41,
     "metadata": {},
     "output_type": "execute_result"
    }
   ],
   "source": [
    "X_preprocessed.shape"
   ]
  },
  {
   "cell_type": "code",
   "execution_count": 42,
   "id": "d81b85d8-9bd0-4266-a5e1-d2b55bc8ca3b",
   "metadata": {},
   "outputs": [
    {
     "data": {
      "text/plain": [
       "(2242931, 9)"
      ]
     },
     "execution_count": 42,
     "metadata": {},
     "output_type": "execute_result"
    }
   ],
   "source": [
    "X6.shape"
   ]
  },
  {
   "cell_type": "code",
   "execution_count": 43,
   "id": "0f920e04-6caf-4929-b563-5eaf1162bf4f",
   "metadata": {},
   "outputs": [],
   "source": [
    "# !pip install mvlearn"
   ]
  },
  {
   "cell_type": "code",
   "execution_count": 44,
   "id": "85217812-a961-4c7b-88e4-749f8e7adff9",
   "metadata": {},
   "outputs": [],
   "source": [
    "# !pip install mvlearn"
   ]
  },
  {
   "cell_type": "code",
   "execution_count": 45,
   "id": "aecece92-8dcb-4736-a1d2-bf5a88e74392",
   "metadata": {},
   "outputs": [],
   "source": [
    "from mvlearn.embed import MCCA"
   ]
  },
  {
   "cell_type": "code",
   "execution_count": 46,
   "id": "6a2a185e-33fc-4a59-8079-fa0d0cb57e18",
   "metadata": {},
   "outputs": [
    {
     "name": "stdout",
     "output_type": "stream",
     "text": [
      "View 1 shape after CCA: (2242931, 2)\n",
      "View 2 shape after CCA: (2242931, 2)\n",
      "View 3 shape after CCA: (2242931, 2)\n",
      "View 4 shape after CCA: (2242931, 2)\n",
      "View 5 shape after CCA: (2242931, 2)\n"
     ]
    }
   ],
   "source": [
    "views = [X1.values, X2.values, X3.values, X4.values, X5.values]\n",
    "\n",
    "# Initialize the model\n",
    "mvcca = MCCA(n_components=2)\n",
    "\n",
    "# Fit and transform all views\n",
    "views_transformed = mvcca.fit_transform(views)\n",
    "\n",
    "# Each transformed view will be in the same shared latent space\n",
    "for i, view in enumerate(views_transformed, 1):\n",
    "    print(f\"View {i} shape after CCA: {view.shape}\")"
   ]
  },
  {
   "cell_type": "code",
   "execution_count": 47,
   "id": "3a79ba9d-c31a-4e18-bb3c-bc0247bf5caf",
   "metadata": {},
   "outputs": [],
   "source": [
    "X_mcca = np.concatenate(views_transformed, axis=1)"
   ]
  },
  {
   "cell_type": "code",
   "execution_count": 48,
   "id": "f8f32ad7-8e3b-4de3-bc24-b7641c8fb8eb",
   "metadata": {},
   "outputs": [],
   "source": [
    "from sklearn.model_selection import train_test_split"
   ]
  },
  {
   "cell_type": "code",
   "execution_count": 49,
   "id": "1ee253a1-5b97-452a-98bb-e72e82e4cdcf",
   "metadata": {},
   "outputs": [],
   "source": [
    "X_train, X_test, y_train, y_test = train_test_split(\n",
    "    X_mcca, Y, test_size=0.2, random_state=42\n",
    ")"
   ]
  },
  {
   "cell_type": "code",
   "execution_count": 50,
   "id": "d1972d47-5464-4305-b882-f8e4dc410e03",
   "metadata": {},
   "outputs": [],
   "source": [
    "# Reshape from (n_samples, features) → (n_samples, 1, features)\n",
    "X_train_lstm = X_train.reshape((X_train.shape[0], 1, X_train.shape[1]))\n",
    "X_test_lstm = X_test.reshape((X_test.shape[0], 1, X_test.shape[1]))\n"
   ]
  },
  {
   "cell_type": "code",
   "execution_count": 57,
   "id": "912a6891-ffd5-401f-8851-796b0c9881d8",
   "metadata": {},
   "outputs": [],
   "source": [
    "from tensorflow.keras.utils import to_categorical"
   ]
  },
  {
   "cell_type": "code",
   "execution_count": null,
   "id": "24437203-a779-4113-86a9-be6acacf2189",
   "metadata": {},
   "outputs": [],
   "source": []
  },
  {
   "cell_type": "code",
   "execution_count": 55,
   "id": "1c8cb92b-aa94-4267-8bc7-47b269101ab4",
   "metadata": {},
   "outputs": [
    {
     "data": {
      "text/plain": [
       "Attack_Label\n",
       "2    2151027\n",
       "4      38816\n",
       "5      25588\n",
       "7      11291\n",
       "3       5050\n",
       "6       4760\n",
       "1       3451\n",
       "8       1586\n",
       "0       1226\n",
       "9        136\n",
       "Name: count, dtype: int64"
      ]
     },
     "execution_count": 55,
     "metadata": {},
     "output_type": "execute_result"
    }
   ],
   "source": [
    "Y.value_counts()"
   ]
  },
  {
   "cell_type": "code",
   "execution_count": 58,
   "id": "6290969d-eda7-44fe-884d-034a9cbef559",
   "metadata": {},
   "outputs": [],
   "source": [
    "# One-hot encode the labels\n",
    "y_train_cat = to_categorical(y_train, num_classes=10)\n",
    "y_test_cat = to_categorical(y_test, num_classes=10)"
   ]
  },
  {
   "cell_type": "code",
   "execution_count": 59,
   "id": "1e607658-9861-4c72-8bd5-837e67ab8cd0",
   "metadata": {},
   "outputs": [
    {
     "name": "stderr",
     "output_type": "stream",
     "text": [
      "I0000 00:00:1752407122.185280    5588 gpu_device.cc:2019] Created device /job:localhost/replica:0/task:0/device:GPU:0 with 3539 MB memory:  -> device: 0, name: NVIDIA GeForce RTX 4050 Laptop GPU, pci bus id: 0000:01:00.0, compute capability: 8.9\n",
      "/home/cghosh/tf_gpu/tfgpu1/lib/python3.12/site-packages/keras/src/layers/rnn/rnn.py:200: UserWarning: Do not pass an `input_shape`/`input_dim` argument to a layer. When using Sequential models, prefer using an `Input(shape)` object as the first layer in the model instead.\n",
      "  super().__init__(**kwargs)\n"
     ]
    }
   ],
   "source": [
    "from tensorflow.keras.models import Sequential\n",
    "from tensorflow.keras.layers import LSTM, Dense\n",
    "from tensorflow.keras.callbacks import EarlyStopping\n",
    "\n",
    "# Define model\n",
    "model = Sequential()\n",
    "model.add(LSTM(64, input_shape=(1, X_train.shape[1])))\n",
    "model.add(Dense(64, activation='relu'))\n",
    "model.add(Dense(10, activation='softmax'))  # 10-class output\n",
    "\n",
    "# Compile model\n",
    "model.compile(loss='categorical_crossentropy', optimizer='adam', metrics=['accuracy'])\n",
    "\n",
    "# # Optional: Early stopping to prevent overfitting\n",
    "# early_stop = EarlyStopping(monitor='val_loss', patience=2, restore_best_weights=True)\n",
    "\n",
    "\n"
   ]
  },
  {
   "cell_type": "code",
   "execution_count": 64,
   "id": "906850a9-c0c7-428d-8e25-75b5747cfc45",
   "metadata": {},
   "outputs": [
    {
     "name": "stdout",
     "output_type": "stream",
     "text": [
      "Epoch 1/5\n",
      "\u001b[1m789/789\u001b[0m \u001b[32m━━━━━━━━━━━━━━━━━━━━\u001b[0m\u001b[37m\u001b[0m \u001b[1m21s\u001b[0m 26ms/step - accuracy: 0.9591 - loss: 0.1677 - val_accuracy: 0.9586 - val_loss: 0.1598\n",
      "Epoch 2/5\n",
      "\u001b[1m789/789\u001b[0m \u001b[32m━━━━━━━━━━━━━━━━━━━━\u001b[0m\u001b[37m\u001b[0m \u001b[1m3s\u001b[0m 4ms/step - accuracy: 0.9591 - loss: 0.1560 - val_accuracy: 0.9581 - val_loss: 0.1438\n",
      "Epoch 3/5\n",
      "\u001b[1m789/789\u001b[0m \u001b[32m━━━━━━━━━━━━━━━━━━━━\u001b[0m\u001b[37m\u001b[0m \u001b[1m12s\u001b[0m 15ms/step - accuracy: 0.9599 - loss: 0.1383 - val_accuracy: 0.9623 - val_loss: 0.1251\n",
      "Epoch 4/5\n",
      "\u001b[1m789/789\u001b[0m \u001b[32m━━━━━━━━━━━━━━━━━━━━\u001b[0m\u001b[37m\u001b[0m \u001b[1m12s\u001b[0m 15ms/step - accuracy: 0.9639 - loss: 0.1211 - val_accuracy: 0.9662 - val_loss: 0.1116\n",
      "Epoch 5/5\n",
      "\u001b[1m789/789\u001b[0m \u001b[32m━━━━━━━━━━━━━━━━━━━━\u001b[0m\u001b[37m\u001b[0m \u001b[1m12s\u001b[0m 15ms/step - accuracy: 0.9670 - loss: 0.1089 - val_accuracy: 0.9681 - val_loss: 0.1037\n"
     ]
    }
   ],
   "source": [
    "# Train model\n",
    "history = model.fit(\n",
    "    X_train_lstm, y_train_cat,\n",
    "    epochs=5,\n",
    "    batch_size=2048,\n",
    "    validation_split=0.1,\n",
    "\n",
    "    verbose=1\n",
    ")"
   ]
  },
  {
   "cell_type": "markdown",
   "id": "ced101b6-526a-4d84-aece-1a6dc662627f",
   "metadata": {},
   "source": [
    "# Evaluate model"
   ]
  },
  {
   "cell_type": "code",
   "execution_count": 65,
   "id": "a938ac92-5b51-418d-a9ff-6b94b43ace7d",
   "metadata": {},
   "outputs": [
    {
     "name": "stdout",
     "output_type": "stream",
     "text": [
      "\n",
      "✅ Test Accuracy: 0.9684\n",
      "❌ Test Loss: 0.1029\n",
      "\n",
      "✅ Test Accuracy: 0.9684\n",
      "❌ Test Loss: 0.1029\n"
     ]
    }
   ],
   "source": [
    "\n",
    "test_loss, test_accuracy = model.evaluate(X_test_lstm, y_test_cat, verbose=0)\n",
    "print(f\"\\n✅ Test Accuracy: {test_accuracy:.4f}\")\n",
    "print(f\"❌ Test Loss: {test_loss:.4f}\")# Evaluate model\n",
    "test_loss, test_accuracy = model.evaluate(X_test_lstm, y_test_cat, verbose=0)\n",
    "print(f\"\\n✅ Test Accuracy: {test_accuracy:.4f}\")\n",
    "print(f\"❌ Test Loss: {test_loss:.4f}\")"
   ]
  },
  {
   "cell_type": "code",
   "execution_count": null,
   "id": "1785d442-500a-4236-8fc6-2a950cc74f95",
   "metadata": {},
   "outputs": [],
   "source": []
  },
  {
   "cell_type": "code",
   "execution_count": 66,
   "id": "6ce56c44-1009-4a29-be92-dd42cfd08dce",
   "metadata": {},
   "outputs": [
    {
     "data": {
      "image/png": "[encoded data removed]",
      "text/plain": [
       "<Figure size 1000x500 with 1 Axes>"
      ]
     },
     "metadata": {},
     "output_type": "display_data"
    }
   ],
   "source": [
    "import matplotlib.pyplot as plt\n",
    "\n",
    "plt.figure(figsize=(10, 5))\n",
    "plt.plot(history.history['accuracy'], label='Train Acc')\n",
    "plt.plot(history.history['val_accuracy'], label='Val Acc')\n",
    "plt.title('Training and Validation Accuracy')\n",
    "plt.xlabel('Epoch')\n",
    "plt.ylabel('Accuracy')\n",
    "plt.legend()\n",
    "plt.grid(True)\n",
    "plt.show()\n"
   ]
  },
  {
   "cell_type": "code",
   "execution_count": 68,
   "id": "fa0f7905-9314-4d6b-bfc1-8ce65844e9df",
   "metadata": {},
   "outputs": [
    {
     "data": {
      "image/png": "[encoded data removed]",
      "text/plain": [
       "<Figure size 600x500 with 1 Axes>"
      ]
     },
     "metadata": {},
     "output_type": "display_data"
    }
   ],
   "source": [
    "# Prepare values\n",
    "metrics = ['Accuracy', 'Loss']\n",
    "values = [test_accuracy, test_loss]\n",
    "\n",
    "# Create bar plot\n",
    "plt.figure(figsize=(6, 5))\n",
    "bars = plt.bar(metrics, values, color=['green', 'red'])\n",
    "plt.title('Test Accuracy and Loss')\n",
    "plt.ylim(0, 1.0)\n",
    "for bar in bars:\n",
    "    yval = bar.get_height()\n",
    "    plt.text(bar.get_x() + bar.get_width()/2, yval + 0.02, f'{yval:.4f}', ha='center', fontsize=12)\n",
    "plt.show()\n"
   ]
  },
  {
   "cell_type": "code",
   "execution_count": null,
   "id": "e39b9622-7626-4c94-a89b-d511047c7e36",
   "metadata": {},
   "outputs": [],
   "source": []
  }
 ],
 "metadata": {
  "kernelspec": {
   "display_name": "Python 3 (ipykernel)",
   "language": "python",
   "name": "python3"
  },
  "language_info": {
   "codemirror_mode": {
    "name": "ipython",
    "version": 3
   },
   "file_extension": ".py",
   "mimetype": "text/x-python",
   "name": "python",
   "nbconvert_exporter": "python",
   "pygments_lexer": "ipython3",
   "version": "3.12.3"
  }
 },
 "nbformat": 4,
 "nbformat_minor": 5
}
