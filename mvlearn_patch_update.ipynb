{
 "cells": [
  {
   "cell_type": "code",
   "execution_count": 2,
   "id": "aa4950f5-2422-4943-be9a-a3961e773685",
   "metadata": {},
   "outputs": [
    {
     "name": "stdout",
     "output_type": "stream",
     "text": [
      "Cloning into 'mvlearn'...\n",
      "remote: Enumerating objects: 4524, done.\u001b[K\n",
      "remote: Counting objects: 100% (101/101), done.\u001b[K\n",
      "remote: Compressing objects: 100% (80/80), done.\u001b[K\n",
      "remote: Total 4524 (delta 58), reused 21 (delta 21), pack-reused 4423 (from 2)\u001b[K\n",
      "Receiving objects: 100% (4524/4524), 48.36 MiB | 6.09 MiB/s, done.\n",
      "Resolving deltas: 100% (2886/2886), done.\n"
     ]
    }
   ],
   "source": [
    "!git clone https://github.com/mvlearn/mvlearn.git\n",
    "!cd mvlearn"
   ]
  },
  {
   "cell_type": "code",
   "execution_count": 1,
   "id": "164f1d24-f88f-4f36-a699-cf0283ea2f75",
   "metadata": {},
   "outputs": [
    {
     "name": "stdout",
     "output_type": "stream",
     "text": [
      "DDos.ipynb           Untitled1.ipynb         \u001b[0m\u001b[01;34mmvlearn\u001b[0m/\n",
      "\u001b[01;34mMachineLearningCVE\u001b[0m/  \u001b[01;34m__pycache__\u001b[0m/            my_functions_for_ml.py\n",
      "Untitled.ipynb       first_data_clean.ipynb  unzip_code.ipynb\n"
     ]
    }
   ],
   "source": [
    "ls"
   ]
  },
  {
   "cell_type": "code",
   "execution_count": 2,
   "id": "b38ac6cc-b899-499c-8c64-0d2f846190f8",
   "metadata": {},
   "outputs": [
    {
     "name": "stdout",
     "output_type": "stream",
     "text": [
      "/home/parvez/Notebook_GPU/Minor_project/mvlearn\n"
     ]
    }
   ],
   "source": [
    "cd mvlearn"
   ]
  },
  {
   "cell_type": "code",
   "execution_count": 3,
   "id": "6b570c55-52d8-44e4-8b01-efc04bf69bc8",
   "metadata": {},
   "outputs": [
    {
     "name": "stdout",
     "output_type": "stream",
     "text": [
      "Contributing.md  README.md  \u001b[0m\u001b[01;34mmvlearn\u001b[0m/       runtime.txt  \u001b[01;34mtests\u001b[0m/\n",
      "LICENSE          \u001b[01;34mdocs\u001b[0m/      pytest.ini     setup.cfg\n",
      "MANIFEST.in      \u001b[01;34mexamples\u001b[0m/  \u001b[01;34mrequirements\u001b[0m/  setup.py\n"
     ]
    }
   ],
   "source": [
    "ls"
   ]
  },
  {
   "cell_type": "code",
   "execution_count": 4,
   "id": "3aaa3238-7e14-483a-8ff8-e8ea4ccee915",
   "metadata": {},
   "outputs": [
    {
     "name": "stdout",
     "output_type": "stream",
     "text": [
      "Processing /home/parvez/Notebook_GPU/Minor_project/mvlearn\n",
      "  Preparing metadata (setup.py) ... \u001b[?25ldone\n",
      "\u001b[?25hRequirement already satisfied: matplotlib<4.0.0,>=3.5.0 in /home/parvez/Notebook_GPU/jupyter_gpu/lib/python3.12/site-packages (from mvlearn==0.5.0) (3.10.1)\n",
      "Requirement already satisfied: numpy>=1.17.0 in /home/parvez/Notebook_GPU/jupyter_gpu/lib/python3.12/site-packages (from mvlearn==0.5.0) (1.26.4)\n",
      "Requirement already satisfied: scikit-learn>=0.19.1 in /home/parvez/Notebook_GPU/jupyter_gpu/lib/python3.12/site-packages (from mvlearn==0.5.0) (1.6.1)\n",
      "Requirement already satisfied: scipy>=1.5.0 in /home/parvez/Notebook_GPU/jupyter_gpu/lib/python3.12/site-packages (from mvlearn==0.5.0) (1.13.1)\n",
      "Requirement already satisfied: seaborn>=0.9.0 in /home/parvez/Notebook_GPU/jupyter_gpu/lib/python3.12/site-packages (from mvlearn==0.5.0) (0.13.2)\n",
      "Requirement already satisfied: joblib>=0.11 in /home/parvez/Notebook_GPU/jupyter_gpu/lib/python3.12/site-packages (from mvlearn==0.5.0) (1.4.2)\n",
      "Requirement already satisfied: contourpy>=1.0.1 in /home/parvez/Notebook_GPU/jupyter_gpu/lib/python3.12/site-packages (from matplotlib<4.0.0,>=3.5.0->mvlearn==0.5.0) (1.3.1)\n",
      "Requirement already satisfied: cycler>=0.10 in /home/parvez/Notebook_GPU/jupyter_gpu/lib/python3.12/site-packages (from matplotlib<4.0.0,>=3.5.0->mvlearn==0.5.0) (0.12.1)\n",
      "Requirement already satisfied: fonttools>=4.22.0 in /home/parvez/Notebook_GPU/jupyter_gpu/lib/python3.12/site-packages (from matplotlib<4.0.0,>=3.5.0->mvlearn==0.5.0) (4.56.0)\n",
      "Requirement already satisfied: kiwisolver>=1.3.1 in /home/parvez/Notebook_GPU/jupyter_gpu/lib/python3.12/site-packages (from matplotlib<4.0.0,>=3.5.0->mvlearn==0.5.0) (1.4.8)\n",
      "Requirement already satisfied: packaging>=20.0 in /home/parvez/Notebook_GPU/jupyter_gpu/lib/python3.12/site-packages (from matplotlib<4.0.0,>=3.5.0->mvlearn==0.5.0) (24.2)\n",
      "Requirement already satisfied: pillow>=8 in /home/parvez/Notebook_GPU/jupyter_gpu/lib/python3.12/site-packages (from matplotlib<4.0.0,>=3.5.0->mvlearn==0.5.0) (11.1.0)\n",
      "Requirement already satisfied: pyparsing>=2.3.1 in /home/parvez/Notebook_GPU/jupyter_gpu/lib/python3.12/site-packages (from matplotlib<4.0.0,>=3.5.0->mvlearn==0.5.0) (3.2.1)\n",
      "Requirement already satisfied: python-dateutil>=2.7 in /home/parvez/Notebook_GPU/jupyter_gpu/lib/python3.12/site-packages (from matplotlib<4.0.0,>=3.5.0->mvlearn==0.5.0) (2.9.0.post0)\n",
      "Requirement already satisfied: six>=1.5 in /home/parvez/Notebook_GPU/jupyter_gpu/lib/python3.12/site-packages (from python-dateutil>=2.7->matplotlib<4.0.0,>=3.5.0->mvlearn==0.5.0) (1.17.0)\n",
      "Requirement already satisfied: threadpoolctl>=3.1.0 in /home/parvez/Notebook_GPU/jupyter_gpu/lib/python3.12/site-packages (from scikit-learn>=0.19.1->mvlearn==0.5.0) (3.6.0)\n",
      "Requirement already satisfied: pandas>=1.2 in /home/parvez/Notebook_GPU/jupyter_gpu/lib/python3.12/site-packages (from seaborn>=0.9.0->mvlearn==0.5.0) (2.2.3)\n",
      "Requirement already satisfied: pytz>=2020.1 in /home/parvez/Notebook_GPU/jupyter_gpu/lib/python3.12/site-packages (from pandas>=1.2->seaborn>=0.9.0->mvlearn==0.5.0) (2025.1)\n",
      "Requirement already satisfied: tzdata>=2022.7 in /home/parvez/Notebook_GPU/jupyter_gpu/lib/python3.12/site-packages (from pandas>=1.2->seaborn>=0.9.0->mvlearn==0.5.0) (2025.1)\n",
      "Building wheels for collected packages: mvlearn\n",
      "\u001b[33m  DEPRECATION: Building 'mvlearn' using the legacy setup.py bdist_wheel mechanism, which will be removed in a future version. pip 25.3 will enforce this behaviour change. A possible replacement is to use the standardized build interface by setting the `--use-pep517` option, (possibly combined with `--no-build-isolation`), or adding a `pyproject.toml` file to the source tree of 'mvlearn'. Discussion can be found at https://github.com/pypa/pip/issues/6334\u001b[0m\u001b[33m\n",
      "\u001b[0m  Building wheel for mvlearn (setup.py) ... \u001b[?25ldone\n",
      "\u001b[?25h  Created wheel for mvlearn: filename=mvlearn-0.5.0-py3-none-any.whl size=2053593 sha256=789f3ce4bb3bb7177d84c59ddd1d5582c81a50084cb1b42329a995b9a32b2b15\n",
      "  Stored in directory: /tmp/pip-ephem-wheel-cache-91od2m7w/wheels/7c/35/48/3a9ccb7a4a96e8d5afa6323cbade4df471106b4f3fc53586e3\n",
      "Successfully built mvlearn\n",
      "Installing collected packages: mvlearn\n",
      "Successfully installed mvlearn-0.5.0\n",
      "Note: you may need to restart the kernel to use updated packages.\n"
     ]
    }
   ],
   "source": [
    "pip install ."
   ]
  },
  {
   "cell_type": "code",
   "execution_count": null,
   "id": "4230ba24-d060-434e-b535-dccfb867f27c",
   "metadata": {},
   "outputs": [],
   "source": []
  }
 ],
 "metadata": {
  "kernelspec": {
   "display_name": "Python 3 (ipykernel)",
   "language": "python",
   "name": "python3"
  },
  "language_info": {
   "codemirror_mode": {
    "name": "ipython",
    "version": 3
   },
   "file_extension": ".py",
   "mimetype": "text/x-python",
   "name": "python",
   "nbconvert_exporter": "python",
   "pygments_lexer": "ipython3",
   "version": "3.12.3"
  }
 },
 "nbformat": 4,
 "nbformat_minor": 5
}
