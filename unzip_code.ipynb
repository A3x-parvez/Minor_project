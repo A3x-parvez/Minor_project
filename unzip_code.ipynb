{
 "cells": [
  {
   "cell_type": "code",
   "execution_count": 1,
   "id": "4ff63eba-6eb5-43a8-b8ac-06901bb46cb3",
   "metadata": {},
   "outputs": [
    {
     "name": "stdout",
     "output_type": "stream",
     "text": [
      "Extracting 9 files from MachineLearningCSV.zip...\n",
      "\n"
     ]
    },
    {
     "name": "stderr",
     "output_type": "stream",
     "text": [
      "Unzipping: 100%|████████████████████████████████████████████████████████████████████████| 9/9 [00:03<00:00,  2.71file/s]"
     ]
    },
    {
     "name": "stdout",
     "output_type": "stream",
     "text": [
      "\n",
      "✅ Extraction completed successfully.\n"
     ]
    },
    {
     "name": "stderr",
     "output_type": "stream",
     "text": [
      "\n"
     ]
    }
   ],
   "source": [
    "import zipfile\n",
    "import os\n",
    "from tqdm import tqdm\n",
    "import gc  # Garbage collector\n",
    "\n",
    "def unzip_with_low_memory(zip_path, extract_to):\n",
    "    os.makedirs(extract_to, exist_ok=True)\n",
    "\n",
    "    with zipfile.ZipFile(zip_path, 'r') as zip_ref:\n",
    "        file_names = zip_ref.namelist()\n",
    "        total_files = len(file_names)\n",
    "\n",
    "        print(f\"Extracting {total_files} files from {zip_path}...\\n\")\n",
    "\n",
    "        for idx, file in enumerate(tqdm(file_names, desc=\"Unzipping\", unit=\"file\")):\n",
    "            try:\n",
    "                zip_ref.extract(file, path=extract_to)\n",
    "            except Exception as e:\n",
    "                print(f\"❌ Error extracting {file}: {e}\")\n",
    "            \n",
    "            # Free memory every 5000 files\n",
    "            if idx % 4000 == 0 and idx != 0:\n",
    "                gc.collect()  # force garbage collection\n",
    "                print(f\"🧹 Cleared RAM at {idx} files\")\n",
    "\n",
    "    print(\"\\n✅ Extraction completed successfully.\")\n",
    "\n",
    "zip_path = 'MachineLearningCSV.zip'       # e.g., 'data/archive.zip'\n",
    "extract_to = './'    # e.g., 'data/unzipped'\n",
    "\n",
    "unzip_with_low_memory(zip_path, extract_to)"
   ]
  },
  {
   "cell_type": "code",
   "execution_count": null,
   "id": "27ed9135-4405-4fc8-a8f2-4efa991e1046",
   "metadata": {},
   "outputs": [],
   "source": []
  }
 ],
 "metadata": {
  "kernelspec": {
   "display_name": "Python 3 (ipykernel)",
   "language": "python",
   "name": "python3"
  },
  "language_info": {
   "codemirror_mode": {
    "name": "ipython",
    "version": 3
   },
   "file_extension": ".py",
   "mimetype": "text/x-python",
   "name": "python",
   "nbconvert_exporter": "python",
   "pygments_lexer": "ipython3",
   "version": "3.12.3"
  }
 },
 "nbformat": 4,
 "nbformat_minor": 5
}
